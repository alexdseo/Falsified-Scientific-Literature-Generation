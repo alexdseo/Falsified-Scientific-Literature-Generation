{
 "cells": [
  {
   "cell_type": "code",
   "execution_count": null,
   "id": "4e87967f",
   "metadata": {},
   "outputs": [],
   "source": [
    "# Images in separate folders for each paper\n",
    "# Generate one TXT file, saved to images folder\n",
    "\n",
    "import os\n",
    "\n",
    "imagepaths = []\n",
    "\n",
    "for folder in os.listdir('images/extracted_images'):\n",
    "    try:\n",
    "        for image in os.listdir(f'images/extracted_images/{folder}'):\n",
    "            imagepaths.append(f\"{folder}/{image}\")\n",
    "    except:\n",
    "        continue\n",
    "\n",
    "with open('images/extracted_images.txt', 'w') as f:\n",
    "    for imagepath in imagepaths:\n",
    "        f.write(imagepath)\n",
    "        f.write('\\n')"
   ]
  },
  {
   "cell_type": "code",
   "execution_count": null,
   "id": "26720c18",
   "metadata": {},
   "outputs": [],
   "source": [
    "# Images in separate folders for each paper\n",
    "# Generate multiple TXT files, each one saved to corresponding paper folder\n",
    "\n",
    "import os\n",
    "\n",
    "for folder in os.listdir('images/extracted_images'):\n",
    "    try:\n",
    "        with open(f'images/extracted_images/{folder}/images.txt', 'w') as f:\n",
    "            for image in os.listdir(f'images/extracted_images/{folder}'):\n",
    "                if image != \".DS_Store\" and image.split(\".\")[1] != \"txt\":\n",
    "                    f.write(image)\n",
    "                    f.write('\\n')\n",
    "    except:\n",
    "        continue\n",
    "    "
   ]
  },
  {
   "cell_type": "code",
   "execution_count": null,
   "id": "0c72a1d8",
   "metadata": {},
   "outputs": [],
   "source": [
    "# Images for all papers in one folder\n",
    "# Generate one TXT file, saved to images folder\n",
    "\n",
    "import os\n",
    "\n",
    "with open(f'images/extracted_images_new.txt', 'w') as f:\n",
    "    for image in os.listdir('images/extracted_images_new'):\n",
    "        if image != \".DS_Store\":\n",
    "            f.write(image)\n",
    "            f.write('\\n')"
   ]
  },
  {
   "cell_type": "code",
   "execution_count": null,
   "id": "a30e39e1",
   "metadata": {},
   "outputs": [],
   "source": [
    "# My own sample\n",
    "# Sample images from one folder (images/temp)\n",
    "# Generate one TXT file, saved to images folder\n",
    "\n",
    "import os\n",
    "\n",
    "with open(f'images/temp.txt', 'w') as f:\n",
    "    for image in os.listdir('images/temp'):\n",
    "        if image != \".DS_Store\":\n",
    "            f.write(image)\n",
    "            f.write('\\n')"
   ]
  },
  {
   "cell_type": "code",
   "execution_count": null,
   "id": "8d220ba1",
   "metadata": {},
   "outputs": [],
   "source": []
  }
 ],
 "metadata": {
  "kernelspec": {
   "display_name": "Python 3 (ipykernel)",
   "language": "python",
   "name": "python3"
  },
  "language_info": {
   "codemirror_mode": {
    "name": "ipython",
    "version": 3
   },
   "file_extension": ".py",
   "mimetype": "text/x-python",
   "name": "python",
   "nbconvert_exporter": "python",
   "pygments_lexer": "ipython3",
   "version": "3.9.7"
  }
 },
 "nbformat": 4,
 "nbformat_minor": 5
}
