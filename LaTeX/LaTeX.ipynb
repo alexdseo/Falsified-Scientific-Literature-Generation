{
 "cells": [
  {
   "cell_type": "code",
   "execution_count": null,
   "id": "841fd047",
   "metadata": {},
   "outputs": [],
   "source": [
    "import csv\n",
    "import subprocess"
   ]
  },
  {
   "cell_type": "code",
   "execution_count": null,
   "id": "79e37d57",
   "metadata": {},
   "outputs": [],
   "source": [
    "# Accessed from Assignment2.ipynb / Audrey.ipynb\n",
    "\n",
    "%store -r authors\n",
    "%store -r affiliations\n",
    "%store -r year\n",
    "%store -r month_abc"
   ]
  },
  {
   "cell_type": "code",
   "execution_count": null,
   "id": "78749ecb",
   "metadata": {},
   "outputs": [],
   "source": [
    "LatexContent = '''\n",
    "\\\\documentclass{article}\n",
    "\\\\usepackage[utf8]{inputenc}\n",
    "\\\\usepackage{authblk}\n",
    "\\\\usepackage{textalpha}\n",
    "\\\\usepackage{newunicodechar}\n",
    "\\\\newunicodechar{≥}{\\\\ensuremath{\\\\geq}}\n",
    "\\\\usepackage{graphicx}\n",
    "\\\\graphicspath{{./images/}}\n",
    "\\\\usepackage[font=small,labelfont=bf]{caption}\n",
    "\n",
    "\\\\title{%(Ti)s}\n",
    "\\\\author{%(Au)s}\n",
    "\\\\affil{\\\\textsuperscript{1}%(Af)s}\n",
    "\\\\date{%(Da)s}\n",
    "\n",
    "\\\\begin{document}\n",
    "\n",
    "\\\\maketitle\n",
    "\n",
    "\\\\begin{center}\n",
    "\\\\begin{minipage}{0.75\\linewidth}\n",
    "\\\\includegraphics[width=\\\\textwidth]{%(Im)s}\n",
    "\\\\captionof{figure}{%(Ca)s}\n",
    "\\\\end{minipage}\n",
    "\\\\end{center}\n",
    "\n",
    "%(Bo)s\n",
    "\n",
    "\\\\end{document}'''\n",
    "\n",
    "for i in range(0,1):\n",
    "    \n",
    "        ID = str(i + 200)\n",
    "        Authors = str(authors[i].split(\",\")[0])+ \"\\\\textsuperscript{1}, \" + \", \".join(authors[i].split(\",\")[1:])\n",
    "        Affiliation = affiliations[i]\n",
    "        Date = month_abc[i] + \" \" + str(year[i])\n",
    "        Body = open(f'../faketext/{i}.txt', 'r').read().replace(\"\\\\n\",\"\\n\\n\").replace(\"$\",\"\\$\")[1:-2]\n",
    "        Title = \" \".join(Body.split(\" \")[:10])\n",
    "        Image = \"universe\"\n",
    "        Caption = \"The universe.\"\n",
    "\n",
    "        TexFileName = ID + '.tex'\n",
    "        TexFile = open(TexFileName,'w')\n",
    "        TexFile.write(LatexContent %{\"Id\" : ID,\n",
    "                                     \"Ti\" : Title,\n",
    "                                     \"Au\" : Authors,\n",
    "                                     \"Af\" : Affiliation,\n",
    "                                     \"Da\" : Date,\n",
    "                                     \"Bo\" : Body ,\n",
    "                                     \"Im\" : Image ,\n",
    "                                     \"Ca\" : Caption})\n",
    "        TexFile.close()\n",
    "        \n",
    "        subprocess.Popen(['pdflatex', TexFileName],shell=False)"
   ]
  },
  {
   "cell_type": "code",
   "execution_count": null,
   "id": "2ce24d53",
   "metadata": {},
   "outputs": [],
   "source": []
  }
 ],
 "metadata": {
  "kernelspec": {
   "display_name": "Python 3 (ipykernel)",
   "language": "python",
   "name": "python3"
  },
  "language_info": {
   "codemirror_mode": {
    "name": "ipython",
    "version": 3
   },
   "file_extension": ".py",
   "mimetype": "text/x-python",
   "name": "python",
   "nbconvert_exporter": "python",
   "pygments_lexer": "ipython3",
   "version": "3.9.7"
  }
 },
 "nbformat": 4,
 "nbformat_minor": 5
}
