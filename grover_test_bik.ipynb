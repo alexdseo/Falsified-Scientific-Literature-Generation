{
 "cells": [
  {
   "cell_type": "code",
   "execution_count": 1,
   "metadata": {
    "colab": {
     "base_uri": "https://localhost:8080/"
    },
    "id": "LS0vuvh0yJKC",
    "outputId": "e3fca533-6427-4f83-9fe8-f4e96387ba26"
   },
   "outputs": [
    {
     "name": "stdout",
     "output_type": "stream",
     "text": [
      "Cloning into 'Falsified-Scientific-Literature-Generation'...\n",
      "remote: Enumerating objects: 4338, done.\u001b[K\n",
      "remote: Counting objects: 100% (297/297), done.\u001b[K\n",
      "remote: Compressing objects: 100% (259/259), done.\u001b[K\n",
      "remote: Total 4338 (delta 52), reused 265 (delta 38), pack-reused 4041\u001b[K\n",
      "Receiving objects: 100% (4338/4338), 737.82 MiB | 32.21 MiB/s, done.\n",
      "Resolving deltas: 100% (182/182), done.\n",
      "Checking out files: 100% (8858/8858), done.\n"
     ]
    }
   ],
   "source": [
    "!git clone https://github.com/alexdseo/Falsified-Scientific-Literature-Generation"
   ]
  },
  {
   "cell_type": "code",
   "execution_count": 2,
   "metadata": {
    "colab": {
     "base_uri": "https://localhost:8080/"
    },
    "id": "E7107IMmP4lu",
    "outputId": "8bff3014-cd81-43da-95ff-f27c6b3a746b"
   },
   "outputs": [
    {
     "name": "stdout",
     "output_type": "stream",
     "text": [
      "There are 2 choices for the alternative python3 (providing /usr/bin/python3).\n",
      "\n",
      "  Selection    Path                Priority   Status\n",
      "------------------------------------------------------------\n",
      "* 0            /usr/bin/python3.7   2         auto mode\n",
      "  1            /usr/bin/python3.6   1         manual mode\n",
      "  2            /usr/bin/python3.7   2         manual mode\n",
      "\n",
      "Press <enter> to keep the current choice[*], or type selection number: 1\n",
      "update-alternatives: using /usr/bin/python3.6 to provide /usr/bin/python3 (python3) in manual mode\n"
     ]
    }
   ],
   "source": [
    "!sudo update-alternatives --config python3"
   ]
  },
  {
   "cell_type": "code",
   "execution_count": 3,
   "metadata": {
    "colab": {
     "base_uri": "https://localhost:8080/"
    },
    "id": "dviVfFY9QuA3",
    "outputId": "29db3f7b-9e4a-4128-ee06-d8630688ee3d"
   },
   "outputs": [
    {
     "name": "stdout",
     "output_type": "stream",
     "text": [
      "Python 3.6.9\n"
     ]
    }
   ],
   "source": [
    "!python --version"
   ]
  },
  {
   "cell_type": "code",
   "execution_count": 4,
   "metadata": {
    "colab": {
     "base_uri": "https://localhost:8080/"
    },
    "id": "SkzpQ6hRRB88",
    "outputId": "eb98d86b-4d85-4633-a0ca-2f927626f53e"
   },
   "outputs": [
    {
     "name": "stdout",
     "output_type": "stream",
     "text": [
      "/content/Falsified-Scientific-Literature-Generation\n"
     ]
    }
   ],
   "source": [
    "%cd Falsified-Scientific-Literature-Generation"
   ]
  },
  {
   "cell_type": "code",
   "execution_count": 5,
   "metadata": {
    "colab": {
     "base_uri": "https://localhost:8080/"
    },
    "id": "89xIEZnrRiGz",
    "outputId": "86bb765e-9ff2-4be4-c8a6-6666b3cde90e"
   },
   "outputs": [
    {
     "name": "stdout",
     "output_type": "stream",
     "text": [
      "Reading package lists... Done\n",
      "Building dependency tree       \n",
      "Reading state information... Done\n",
      "The following additional packages will be installed:\n",
      "  python-pip-whl python3-asn1crypto python3-cffi-backend python3-crypto\n",
      "  python3-cryptography python3-idna python3-keyring python3-keyrings.alt\n",
      "  python3-pkg-resources python3-secretstorage python3-setuptools python3-six\n",
      "  python3-wheel python3-xdg\n",
      "Suggested packages:\n",
      "  python-crypto-doc python-cryptography-doc python3-cryptography-vectors\n",
      "  gnome-keyring libkf5wallet-bin gir1.2-gnomekeyring-1.0\n",
      "  python-secretstorage-doc python-setuptools-doc\n",
      "The following NEW packages will be installed:\n",
      "  python-pip-whl python3-asn1crypto python3-cffi-backend python3-crypto\n",
      "  python3-cryptography python3-idna python3-keyring python3-keyrings.alt\n",
      "  python3-pip python3-pkg-resources python3-secretstorage python3-setuptools\n",
      "  python3-six python3-wheel python3-xdg\n",
      "0 upgraded, 15 newly installed, 0 to remove and 39 not upgraded.\n",
      "Need to get 2,882 kB of archives.\n",
      "After this operation, 8,886 kB of additional disk space will be used.\n",
      "Get:1 http://archive.ubuntu.com/ubuntu bionic-updates/universe amd64 python-pip-whl all 9.0.1-2.3~ubuntu1.18.04.5 [1,653 kB]\n",
      "Get:2 http://archive.ubuntu.com/ubuntu bionic/main amd64 python3-asn1crypto all 0.24.0-1 [72.8 kB]\n",
      "Get:3 http://archive.ubuntu.com/ubuntu bionic/main amd64 python3-cffi-backend amd64 1.11.5-1 [64.6 kB]\n",
      "Get:4 http://archive.ubuntu.com/ubuntu bionic/main amd64 python3-crypto amd64 2.6.1-8ubuntu2 [244 kB]\n",
      "Get:5 http://archive.ubuntu.com/ubuntu bionic/main amd64 python3-idna all 2.6-1 [32.5 kB]\n",
      "Get:6 http://archive.ubuntu.com/ubuntu bionic/main amd64 python3-six all 1.11.0-2 [11.4 kB]\n",
      "Get:7 http://archive.ubuntu.com/ubuntu bionic-updates/main amd64 python3-cryptography amd64 2.1.4-1ubuntu1.4 [220 kB]\n",
      "Get:8 http://archive.ubuntu.com/ubuntu bionic/main amd64 python3-secretstorage all 2.3.1-2 [12.1 kB]\n",
      "Get:9 http://archive.ubuntu.com/ubuntu bionic/main amd64 python3-keyring all 10.6.0-1 [26.7 kB]\n",
      "Get:10 http://archive.ubuntu.com/ubuntu bionic/main amd64 python3-keyrings.alt all 3.0-1 [16.6 kB]\n",
      "Get:11 http://archive.ubuntu.com/ubuntu bionic-updates/universe amd64 python3-pip all 9.0.1-2.3~ubuntu1.18.04.5 [114 kB]\n",
      "Get:12 http://archive.ubuntu.com/ubuntu bionic/main amd64 python3-pkg-resources all 39.0.1-2 [98.8 kB]\n",
      "Get:13 http://archive.ubuntu.com/ubuntu bionic/main amd64 python3-setuptools all 39.0.1-2 [248 kB]\n",
      "Get:14 http://archive.ubuntu.com/ubuntu bionic/universe amd64 python3-wheel all 0.30.0-0.2 [36.5 kB]\n",
      "Get:15 http://archive.ubuntu.com/ubuntu bionic-updates/main amd64 python3-xdg all 0.25-4ubuntu1.1 [31.3 kB]\n",
      "Fetched 2,882 kB in 1s (5,687 kB/s)\n",
      "debconf: unable to initialize frontend: Dialog\n",
      "debconf: (No usable dialog-like program is installed, so the dialog based frontend cannot be used. at /usr/share/perl5/Debconf/FrontEnd/Dialog.pm line 76, <> line 15.)\n",
      "debconf: falling back to frontend: Readline\n",
      "debconf: unable to initialize frontend: Readline\n",
      "debconf: (This frontend requires a controlling tty.)\n",
      "debconf: falling back to frontend: Teletype\n",
      "dpkg-preconfigure: unable to re-open stdin: \n",
      "Selecting previously unselected package python-pip-whl.\n",
      "(Reading database ... 156210 files and directories currently installed.)\n",
      "Preparing to unpack .../00-python-pip-whl_9.0.1-2.3~ubuntu1.18.04.5_all.deb ...\n",
      "Unpacking python-pip-whl (9.0.1-2.3~ubuntu1.18.04.5) ...\n",
      "Selecting previously unselected package python3-asn1crypto.\n",
      "Preparing to unpack .../01-python3-asn1crypto_0.24.0-1_all.deb ...\n",
      "Unpacking python3-asn1crypto (0.24.0-1) ...\n",
      "Selecting previously unselected package python3-cffi-backend.\n",
      "Preparing to unpack .../02-python3-cffi-backend_1.11.5-1_amd64.deb ...\n",
      "Unpacking python3-cffi-backend (1.11.5-1) ...\n",
      "Selecting previously unselected package python3-crypto.\n",
      "Preparing to unpack .../03-python3-crypto_2.6.1-8ubuntu2_amd64.deb ...\n",
      "Unpacking python3-crypto (2.6.1-8ubuntu2) ...\n",
      "Selecting previously unselected package python3-idna.\n",
      "Preparing to unpack .../04-python3-idna_2.6-1_all.deb ...\n",
      "Unpacking python3-idna (2.6-1) ...\n",
      "Selecting previously unselected package python3-six.\n",
      "Preparing to unpack .../05-python3-six_1.11.0-2_all.deb ...\n",
      "Unpacking python3-six (1.11.0-2) ...\n",
      "Selecting previously unselected package python3-cryptography.\n",
      "Preparing to unpack .../06-python3-cryptography_2.1.4-1ubuntu1.4_amd64.deb ...\n",
      "Unpacking python3-cryptography (2.1.4-1ubuntu1.4) ...\n",
      "Selecting previously unselected package python3-secretstorage.\n",
      "Preparing to unpack .../07-python3-secretstorage_2.3.1-2_all.deb ...\n",
      "Unpacking python3-secretstorage (2.3.1-2) ...\n",
      "Selecting previously unselected package python3-keyring.\n",
      "Preparing to unpack .../08-python3-keyring_10.6.0-1_all.deb ...\n",
      "Unpacking python3-keyring (10.6.0-1) ...\n",
      "Selecting previously unselected package python3-keyrings.alt.\n",
      "Preparing to unpack .../09-python3-keyrings.alt_3.0-1_all.deb ...\n",
      "Unpacking python3-keyrings.alt (3.0-1) ...\n",
      "Selecting previously unselected package python3-pip.\n",
      "Preparing to unpack .../10-python3-pip_9.0.1-2.3~ubuntu1.18.04.5_all.deb ...\n",
      "Unpacking python3-pip (9.0.1-2.3~ubuntu1.18.04.5) ...\n",
      "Selecting previously unselected package python3-pkg-resources.\n",
      "Preparing to unpack .../11-python3-pkg-resources_39.0.1-2_all.deb ...\n",
      "Unpacking python3-pkg-resources (39.0.1-2) ...\n",
      "Selecting previously unselected package python3-setuptools.\n",
      "Preparing to unpack .../12-python3-setuptools_39.0.1-2_all.deb ...\n",
      "Unpacking python3-setuptools (39.0.1-2) ...\n",
      "Selecting previously unselected package python3-wheel.\n",
      "Preparing to unpack .../13-python3-wheel_0.30.0-0.2_all.deb ...\n",
      "Unpacking python3-wheel (0.30.0-0.2) ...\n",
      "Selecting previously unselected package python3-xdg.\n",
      "Preparing to unpack .../14-python3-xdg_0.25-4ubuntu1.1_all.deb ...\n",
      "Unpacking python3-xdg (0.25-4ubuntu1.1) ...\n",
      "Setting up python-pip-whl (9.0.1-2.3~ubuntu1.18.04.5) ...\n",
      "Setting up python3-cffi-backend (1.11.5-1) ...\n",
      "Setting up python3-crypto (2.6.1-8ubuntu2) ...\n",
      "Setting up python3-idna (2.6-1) ...\n",
      "Setting up python3-xdg (0.25-4ubuntu1.1) ...\n",
      "Setting up python3-six (1.11.0-2) ...\n",
      "Setting up python3-wheel (0.30.0-0.2) ...\n",
      "Setting up python3-pkg-resources (39.0.1-2) ...\n",
      "Setting up python3-asn1crypto (0.24.0-1) ...\n",
      "Setting up python3-pip (9.0.1-2.3~ubuntu1.18.04.5) ...\n",
      "Setting up python3-setuptools (39.0.1-2) ...\n",
      "Setting up python3-cryptography (2.1.4-1ubuntu1.4) ...\n",
      "Setting up python3-keyrings.alt (3.0-1) ...\n",
      "Setting up python3-secretstorage (2.3.1-2) ...\n",
      "Setting up python3-keyring (10.6.0-1) ...\n",
      "Processing triggers for man-db (2.8.3-2ubuntu0.1) ...\n"
     ]
    }
   ],
   "source": [
    "!sudo apt-get install python3-pip"
   ]
  },
  {
   "cell_type": "code",
   "execution_count": 6,
   "metadata": {
    "colab": {
     "base_uri": "https://localhost:8080/"
    },
    "id": "NPI-ghDuSBIT",
    "outputId": "18aa46ac-46f1-414c-f1a1-17d5ef442b38"
   },
   "outputs": [
    {
     "name": "stdout",
     "output_type": "stream",
     "text": [
      "Collecting pip\n",
      "  Downloading https://files.pythonhosted.org/packages/a4/6d/6463d49a933f547439d6b5b98b46af8742cc03ae83543e4d7688c2420f8b/pip-21.3.1-py3-none-any.whl (1.7MB)\n",
      "\u001b[K    100% |████████████████████████████████| 1.7MB 786kB/s \n",
      "\u001b[?25hInstalling collected packages: pip\n",
      "  Found existing installation: pip 9.0.1\n",
      "    Not uninstalling pip at /usr/lib/python3/dist-packages, outside environment /usr\n",
      "Successfully installed pip-21.3.1\n"
     ]
    }
   ],
   "source": [
    "!python -m pip install --upgrade pip"
   ]
  },
  {
   "cell_type": "code",
   "execution_count": 7,
   "metadata": {
    "colab": {
     "base_uri": "https://localhost:8080/",
     "height": 1000
    },
    "id": "JPGpMuiZSQnq",
    "outputId": "ccd3a60b-83c9-4c2f-a473-fae92ee4e92d"
   },
   "outputs": [
    {
     "name": "stdout",
     "output_type": "stream",
     "text": [
      "Collecting pandas==0.24.2\n",
      "  Downloading pandas-0.24.2-cp36-cp36m-manylinux1_x86_64.whl (10.1 MB)\n",
      "     |████████████████████████████████| 10.1 MB 4.5 MB/s            \n",
      "\u001b[?25hCollecting regex==2019.4.14\n",
      "  Downloading regex-2019.04.14.tar.gz (644 kB)\n",
      "     |████████████████████████████████| 644 kB 43.8 MB/s            \n",
      "\u001b[?25h  Preparing metadata (setup.py) ... \u001b[?25l\u001b[?25hdone\n",
      "Collecting h5py==2.9.0\n",
      "  Downloading h5py-2.9.0-cp36-cp36m-manylinux1_x86_64.whl (2.8 MB)\n",
      "     |████████████████████████████████| 2.8 MB 39.0 MB/s            \n",
      "\u001b[?25hCollecting numpy==1.16.2\n",
      "  Downloading numpy-1.16.2-cp36-cp36m-manylinux1_x86_64.whl (17.3 MB)\n",
      "     |████████████████████████████████| 17.3 MB 663 kB/s             \n",
      "\u001b[?25hCollecting tensorboard==1.13.1\n",
      "  Downloading tensorboard-1.13.1-py3-none-any.whl (3.2 MB)\n",
      "     |████████████████████████████████| 3.2 MB 36.5 MB/s            \n",
      "\u001b[?25hCollecting tensorflow-gpu==1.13.1\n",
      "  Downloading tensorflow_gpu-1.13.1-cp36-cp36m-manylinux1_x86_64.whl (345.2 MB)\n",
      "     |████████████████████████████████| 345.2 MB 2.7 kB/s            \n",
      "\u001b[?25hCollecting tqdm==4.31.1\n",
      "  Downloading tqdm-4.31.1-py2.py3-none-any.whl (48 kB)\n",
      "     |████████████████████████████████| 48 kB 4.4 MB/s             \n",
      "\u001b[?25hCollecting requests==2.22.0\n",
      "  Downloading requests-2.22.0-py2.py3-none-any.whl (57 kB)\n",
      "     |████████████████████████████████| 57 kB 5.0 MB/s             \n",
      "\u001b[?25hCollecting pytz>=2011k\n",
      "  Downloading pytz-2022.1-py2.py3-none-any.whl (503 kB)\n",
      "     |████████████████████████████████| 503 kB 42.4 MB/s            \n",
      "\u001b[?25hCollecting python-dateutil>=2.5.0\n",
      "  Downloading python_dateutil-2.8.2-py2.py3-none-any.whl (247 kB)\n",
      "     |████████████████████████████████| 247 kB 39.0 MB/s            \n",
      "\u001b[?25hRequirement already satisfied: six in /usr/lib/python3/dist-packages (from h5py==2.9.0->-r requirements-gpu.txt (line 3)) (1.11.0)\n",
      "Collecting werkzeug>=0.11.15\n",
      "  Downloading Werkzeug-2.0.3-py3-none-any.whl (289 kB)\n",
      "     |████████████████████████████████| 289 kB 45.5 MB/s            \n",
      "\u001b[?25hCollecting protobuf>=3.6.0\n",
      "  Downloading protobuf-3.19.4-cp36-cp36m-manylinux_2_17_x86_64.manylinux2014_x86_64.whl (1.1 MB)\n",
      "     |████████████████████████████████| 1.1 MB 45.2 MB/s            \n",
      "\u001b[?25hRequirement already satisfied: wheel>=0.26 in /usr/lib/python3/dist-packages (from tensorboard==1.13.1->-r requirements-gpu.txt (line 5)) (0.30.0)\n",
      "Collecting absl-py>=0.4\n",
      "  Downloading absl_py-1.0.0-py3-none-any.whl (126 kB)\n",
      "     |████████████████████████████████| 126 kB 48.4 MB/s            \n",
      "\u001b[?25hCollecting grpcio>=1.6.3\n",
      "  Downloading grpcio-1.44.0-cp36-cp36m-manylinux_2_17_x86_64.manylinux2014_x86_64.whl (4.3 MB)\n",
      "     |████████████████████████████████| 4.3 MB 38.5 MB/s            \n",
      "\u001b[?25hCollecting markdown>=2.6.8\n",
      "  Downloading Markdown-3.3.6-py3-none-any.whl (97 kB)\n",
      "     |████████████████████████████████| 97 kB 6.3 MB/s             \n",
      "\u001b[?25hCollecting keras-applications>=1.0.6\n",
      "  Downloading Keras_Applications-1.0.8-py3-none-any.whl (50 kB)\n",
      "     |████████████████████████████████| 50 kB 6.6 MB/s             \n",
      "\u001b[?25hCollecting gast>=0.2.0\n",
      "  Downloading gast-0.5.3-py3-none-any.whl (19 kB)\n",
      "Collecting tensorflow-estimator<1.14.0rc0,>=1.13.0\n",
      "  Downloading tensorflow_estimator-1.13.0-py2.py3-none-any.whl (367 kB)\n",
      "     |████████████████████████████████| 367 kB 48.8 MB/s            \n",
      "\u001b[?25hCollecting astor>=0.6.0\n",
      "  Downloading astor-0.8.1-py2.py3-none-any.whl (27 kB)\n",
      "Collecting keras-preprocessing>=1.0.5\n",
      "  Downloading Keras_Preprocessing-1.1.2-py2.py3-none-any.whl (42 kB)\n",
      "     |████████████████████████████████| 42 kB 1.2 MB/s             \n",
      "\u001b[?25hCollecting termcolor>=1.1.0\n",
      "  Downloading termcolor-1.1.0.tar.gz (3.9 kB)\n",
      "  Preparing metadata (setup.py) ... \u001b[?25l\u001b[?25hdone\n",
      "Collecting certifi>=2017.4.17\n",
      "  Downloading certifi-2021.10.8-py2.py3-none-any.whl (149 kB)\n",
      "     |████████████████████████████████| 149 kB 35.4 MB/s            \n",
      "\u001b[?25hRequirement already satisfied: idna<2.9,>=2.5 in /usr/lib/python3/dist-packages (from requests==2.22.0->-r requirements-gpu.txt (line 8)) (2.6)\n",
      "Collecting chardet<3.1.0,>=3.0.2\n",
      "  Downloading chardet-3.0.4-py2.py3-none-any.whl (133 kB)\n",
      "     |████████████████████████████████| 133 kB 52.1 MB/s            \n",
      "\u001b[?25hCollecting urllib3!=1.25.0,!=1.25.1,<1.26,>=1.21.1\n",
      "  Downloading urllib3-1.25.11-py2.py3-none-any.whl (127 kB)\n",
      "     |████████████████████████████████| 127 kB 32.7 MB/s            \n",
      "\u001b[?25hCollecting importlib-metadata>=4.4\n",
      "  Downloading importlib_metadata-4.8.3-py3-none-any.whl (17 kB)\n",
      "Collecting mock>=2.0.0\n",
      "  Downloading mock-4.0.3-py3-none-any.whl (28 kB)\n",
      "Collecting dataclasses\n",
      "  Downloading dataclasses-0.8-py3-none-any.whl (19 kB)\n",
      "Collecting typing-extensions>=3.6.4\n",
      "  Downloading typing_extensions-4.1.1-py3-none-any.whl (26 kB)\n",
      "Collecting zipp>=0.5\n",
      "  Downloading zipp-3.6.0-py3-none-any.whl (5.3 kB)\n",
      "Building wheels for collected packages: regex, termcolor\n",
      "  Building wheel for regex (setup.py) ... \u001b[?25l\u001b[?25hdone\n",
      "  Created wheel for regex: filename=regex-2019.4.14-cp36-cp36m-linux_x86_64.whl size=613072 sha256=723ab4eada24531f4e8012e236555397097172c226f7c422aa2ebdb5b631fa5b\n",
      "  Stored in directory: /root/.cache/pip/wheels/32/24/0b/3dfdd68ffe878962e412dbb5982d19c6e4f2a9f6b38b857d8c\n",
      "  Building wheel for termcolor (setup.py) ... \u001b[?25l\u001b[?25hdone\n",
      "  Created wheel for termcolor: filename=termcolor-1.1.0-py3-none-any.whl size=5679 sha256=ae255ed322faa8847d57b02f1688f6fa0847728efe7cc4b236dc416fad26525c\n",
      "  Stored in directory: /root/.cache/pip/wheels/93/2a/eb/e58dbcbc963549ee4f065ff80a59f274cc7210b6eab962acdc\n",
      "Successfully built regex termcolor\n",
      "Installing collected packages: zipp, typing-extensions, numpy, importlib-metadata, dataclasses, werkzeug, protobuf, mock, markdown, h5py, grpcio, absl-py, urllib3, termcolor, tensorflow-estimator, tensorboard, pytz, python-dateutil, keras-preprocessing, keras-applications, gast, chardet, certifi, astor, tqdm, tensorflow-gpu, requests, regex, pandas\n",
      "Successfully installed absl-py-1.0.0 astor-0.8.1 certifi-2021.10.8 chardet-3.0.4 dataclasses-0.8 gast-0.5.3 grpcio-1.44.0 h5py-2.9.0 importlib-metadata-4.8.3 keras-applications-1.0.8 keras-preprocessing-1.1.2 markdown-3.3.6 mock-4.0.3 numpy-1.16.2 pandas-0.24.2 protobuf-3.19.4 python-dateutil-2.8.2 pytz-2022.1 regex-2019.4.14 requests-2.22.0 tensorboard-1.13.1 tensorflow-estimator-1.13.0 tensorflow-gpu-1.13.1 termcolor-1.1.0 tqdm-4.31.1 typing-extensions-4.1.1 urllib3-1.25.11 werkzeug-2.0.3 zipp-3.6.0\n",
      "\u001b[33mWARNING: Running pip as the 'root' user can result in broken permissions and conflicting behaviour with the system package manager. It is recommended to use a virtual environment instead: https://pip.pypa.io/warnings/venv\u001b[0m\n"
     ]
    },
    {
     "data": {
      "application/vnd.colab-display-data+json": {
       "pip_warning": {
        "packages": [
         "astor",
         "dateutil"
        ]
       }
      }
     },
     "metadata": {},
     "output_type": "display_data"
    }
   ],
   "source": [
    "!pip install -r requirements-gpu.txt"
   ]
  },
  {
   "cell_type": "code",
   "execution_count": 8,
   "metadata": {
    "colab": {
     "base_uri": "https://localhost:8080/"
    },
    "id": "buSEAHkIToKE",
    "outputId": "6190411e-869a-4b77-812b-e05acd7df791"
   },
   "outputs": [
    {
     "name": "stdout",
     "output_type": "stream",
     "text": [
      "Just downloaded base/model.ckpt.data-00000-of-00001!\n",
      "Just downloaded base/model.ckpt.index!\n",
      "Just downloaded base/model.ckpt.meta!\n"
     ]
    }
   ],
   "source": [
    "!python download_model.py base"
   ]
  },
  {
   "cell_type": "code",
   "execution_count": 9,
   "metadata": {
    "id": "N0wQ_Al3TyyO"
   },
   "outputs": [],
   "source": [
    "!export PYTHONPATH=$(pwd)"
   ]
  },
  {
   "cell_type": "code",
   "execution_count": 10,
   "metadata": {
    "colab": {
     "base_uri": "https://localhost:8080/"
    },
    "id": "XWbX4Q9cT8l9",
    "outputId": "cb720759-40d3-4118-83c6-2958fc46a996"
   },
   "outputs": [
    {
     "name": "stdout",
     "output_type": "stream",
     "text": [
      "\n",
      "~~\n",
      "batch size=1, max batch size=32, num chunks=1, batch size per chunk=1\n",
      "~~\n",
      "\n",
      "2022-03-28 21:53:10.662560: I tensorflow/core/platform/cpu_feature_guard.cc:141] Your CPU supports instructions that this TensorFlow binary was not compiled to use: AVX2 FMA\n",
      "2022-03-28 21:53:10.843009: I tensorflow/stream_executor/cuda/cuda_gpu_executor.cc:998] successful NUMA node read from SysFS had negative value (-1), but there must be at least one NUMA node, so returning NUMA node zero\n",
      "2022-03-28 21:53:10.843911: I tensorflow/compiler/xla/service/service.cc:150] XLA service 0x23bd080 executing computations on platform CUDA. Devices:\n",
      "2022-03-28 21:53:10.843948: I tensorflow/compiler/xla/service/service.cc:158]   StreamExecutor device (0): Tesla K80, Compute Capability 3.7\n",
      "2022-03-28 21:53:10.846604: I tensorflow/core/platform/profile_utils/cpu_utils.cc:94] CPU Frequency: 2299995000 Hz\n",
      "2022-03-28 21:53:10.846839: I tensorflow/compiler/xla/service/service.cc:150] XLA service 0x23bcf20 executing computations on platform Host. Devices:\n",
      "2022-03-28 21:53:10.846876: I tensorflow/compiler/xla/service/service.cc:158]   StreamExecutor device (0): <undefined>, <undefined>\n",
      "2022-03-28 21:53:10.847045: I tensorflow/core/common_runtime/gpu/gpu_device.cc:1433] Found device 0 with properties: \n",
      "name: Tesla K80 major: 3 minor: 7 memoryClockRate(GHz): 0.8235\n",
      "pciBusID: 0000:00:04.0\n",
      "totalMemory: 11.17GiB freeMemory: 11.12GiB\n",
      "2022-03-28 21:53:10.847087: I tensorflow/core/common_runtime/gpu/gpu_device.cc:1512] Adding visible gpu devices: 0\n",
      "2022-03-28 21:53:10.848234: I tensorflow/core/common_runtime/gpu/gpu_device.cc:984] Device interconnect StreamExecutor with strength 1 edge matrix:\n",
      "2022-03-28 21:53:10.848266: I tensorflow/core/common_runtime/gpu/gpu_device.cc:990]      0 \n",
      "2022-03-28 21:53:10.848284: I tensorflow/core/common_runtime/gpu/gpu_device.cc:1003] 0:   N \n",
      "2022-03-28 21:53:10.848379: W tensorflow/core/common_runtime/gpu/gpu_bfc_allocator.cc:42] Overriding allow_growth setting because the TF_FORCE_GPU_ALLOW_GROWTH environment variable is set. Original config value was 0.\n",
      "2022-03-28 21:53:10.848433: I tensorflow/core/common_runtime/gpu/gpu_device.cc:1115] Created TensorFlow device (/job:localhost/replica:0/task:0/device:GPU:0 with 10813 MB memory) -> physical GPU (device: 0, name: Tesla K80, pci bus id: 0000:00:04.0, compute capability: 3.7)\n",
      "WARNING:tensorflow:From /usr/local/lib/python3.6/dist-packages/tensorflow/python/framework/op_def_library.py:263: colocate_with (from tensorflow.python.framework.ops) is deprecated and will be removed in a future version.\n",
      "Instructions for updating:\n",
      "Colocations handled automatically by placer.\n",
      "WARNING:tensorflow:From /content/Falsified-Scientific-Literature-Generation/lm/modeling.py:143: dense (from tensorflow.python.layers.core) is deprecated and will be removed in a future version.\n",
      "Instructions for updating:\n",
      "Use keras.layers.dense instead.\n",
      "WARNING:tensorflow:From /usr/local/lib/python3.6/dist-packages/tensorflow/python/training/saver.py:1266: checkpoint_exists (from tensorflow.python.training.checkpoint_management) is deprecated and will be removed in a future version.\n",
      "Instructions for updating:\n",
      "Use standard file APIs to check for files with this prefix.\n",
      "  0% 0/214 [00:00<?, ?it/s]2022-03-28 21:53:16.899214: I tensorflow/stream_executor/dso_loader.cc:152] successfully opened CUDA library libcublas.so.10.0 locally\n",
      "Written 0/214 articles\n",
      "  0% 1/214 [00:09<34:26,  9.70s/it]Written 1/214 articles\n",
      "  1% 2/214 [00:18<33:23,  9.45s/it]Written 2/214 articles\n",
      "  1% 3/214 [00:34<40:04, 11.40s/it]Written 3/214 articles\n",
      "  2% 4/214 [00:51<45:31, 13.01s/it]Written 4/214 articles\n",
      "  2% 5/214 [01:06<48:00, 13.78s/it]Written 5/214 articles\n",
      "  3% 6/214 [01:22<49:30, 14.28s/it]Written 6/214 articles\n",
      "  3% 7/214 [01:26<38:30, 11.16s/it]Written 7/214 articles\n",
      "  4% 8/214 [01:40<41:11, 12.00s/it]Written 8/214 articles\n",
      "  4% 9/214 [01:49<38:24, 11.24s/it]Written 9/214 articles\n",
      "  5% 10/214 [01:55<32:24,  9.53s/it]Written 10/214 articles\n",
      "  5% 11/214 [02:05<32:52,  9.72s/it]Written 11/214 articles\n",
      "  6% 12/214 [02:21<39:24, 11.70s/it]Written 12/214 articles\n",
      "  6% 13/214 [02:36<42:30, 12.69s/it]Written 13/214 articles\n",
      "  7% 14/214 [02:49<42:57, 12.89s/it]Written 14/214 articles\n",
      "  7% 15/214 [03:02<42:30, 12.81s/it]Written 15/214 articles\n",
      "  7% 16/214 [03:17<44:15, 13.41s/it]Written 16/214 articles\n",
      "  8% 17/214 [03:33<46:50, 14.27s/it]Written 17/214 articles\n",
      "  8% 18/214 [03:38<37:13, 11.39s/it]Written 18/214 articles\n",
      "  9% 19/214 [03:54<41:31, 12.78s/it]Written 19/214 articles\n",
      "  9% 20/214 [04:02<36:43, 11.36s/it]Written 20/214 articles\n",
      " 10% 21/214 [04:10<33:30, 10.42s/it]Written 21/214 articles\n",
      " 10% 22/214 [04:25<37:23, 11.68s/it]Written 22/214 articles\n",
      " 11% 23/214 [04:35<35:37, 11.19s/it]Written 23/214 articles\n",
      " 11% 24/214 [04:48<37:14, 11.76s/it]Written 24/214 articles\n",
      " 12% 25/214 [05:04<41:09, 13.07s/it]Written 25/214 articles\n",
      " 12% 26/214 [05:20<43:52, 14.01s/it]Written 26/214 articles\n",
      " 13% 27/214 [05:31<41:03, 13.18s/it]Written 27/214 articles\n",
      " 13% 28/214 [05:48<44:01, 14.20s/it]Written 28/214 articles\n",
      " 14% 29/214 [06:03<44:37, 14.47s/it]Written 29/214 articles\n",
      " 14% 30/214 [06:18<44:25, 14.48s/it]Written 30/214 articles\n",
      " 14% 31/214 [06:28<40:11, 13.18s/it]Written 31/214 articles\n",
      " 15% 32/214 [06:44<43:03, 14.20s/it]Written 32/214 articles\n",
      " 15% 33/214 [06:57<41:30, 13.76s/it]Written 33/214 articles\n",
      " 16% 34/214 [07:08<38:45, 12.92s/it]Written 34/214 articles\n",
      " 16% 35/214 [07:12<30:45, 10.31s/it]Written 35/214 articles\n",
      " 17% 36/214 [07:27<34:42, 11.70s/it]Written 36/214 articles\n",
      " 17% 37/214 [07:43<37:41, 12.78s/it]Written 37/214 articles\n",
      " 18% 38/214 [07:47<30:13, 10.30s/it]Written 38/214 articles\n",
      " 18% 39/214 [07:51<24:38,  8.45s/it]Written 39/214 articles\n",
      " 19% 40/214 [07:59<24:11,  8.34s/it]Written 40/214 articles\n",
      " 19% 41/214 [08:08<24:36,  8.54s/it]Written 41/214 articles\n",
      " 20% 42/214 [08:20<27:08,  9.47s/it]Written 42/214 articles\n",
      " 20% 43/214 [08:28<25:41,  9.01s/it]Written 43/214 articles\n",
      " 21% 44/214 [08:31<20:39,  7.29s/it]Written 44/214 articles\n",
      " 21% 45/214 [08:39<21:04,  7.48s/it]Written 45/214 articles\n",
      " 21% 46/214 [08:46<20:11,  7.21s/it]Written 46/214 articles\n",
      " 22% 47/214 [08:53<20:07,  7.23s/it]Written 47/214 articles\n",
      " 22% 48/214 [09:09<27:24,  9.91s/it]Written 48/214 articles\n",
      " 23% 49/214 [09:17<25:30,  9.28s/it]Written 49/214 articles\n",
      " 23% 50/214 [09:30<28:49, 10.54s/it]Written 50/214 articles\n",
      " 24% 51/214 [09:45<31:43, 11.68s/it]Written 51/214 articles\n",
      " 24% 52/214 [10:01<35:08, 13.02s/it]Written 52/214 articles\n",
      " 25% 53/214 [10:10<31:52, 11.88s/it]Written 53/214 articles\n",
      " 25% 54/214 [10:17<27:47, 10.42s/it]Written 54/214 articles\n",
      " 26% 55/214 [10:32<31:25, 11.86s/it]Written 55/214 articles\n",
      " 26% 56/214 [10:36<25:00,  9.49s/it]Written 56/214 articles\n",
      " 27% 57/214 [10:53<30:07, 11.51s/it]Written 57/214 articles\n",
      " 27% 58/214 [11:03<29:02, 11.17s/it]Written 58/214 articles\n",
      " 28% 59/214 [11:08<24:12,  9.37s/it]Written 59/214 articles\n",
      " 28% 60/214 [11:18<24:33,  9.57s/it]Written 60/214 articles\n",
      " 29% 61/214 [11:26<23:22,  9.17s/it]Written 61/214 articles\n",
      " 29% 62/214 [11:40<26:31, 10.47s/it]Written 62/214 articles\n",
      " 29% 63/214 [11:56<30:18, 12.04s/it]Written 63/214 articles\n",
      " 30% 64/214 [12:11<32:57, 13.18s/it]Written 64/214 articles\n",
      " 30% 65/214 [12:20<28:59, 11.67s/it]Written 65/214 articles\n",
      " 31% 66/214 [12:29<27:31, 11.16s/it]Written 66/214 articles\n",
      " 31% 67/214 [12:34<22:32,  9.20s/it]Written 67/214 articles\n",
      " 32% 68/214 [12:46<24:03,  9.89s/it]Written 68/214 articles\n",
      " 32% 69/214 [12:50<19:53,  8.23s/it]Written 69/214 articles\n",
      " 33% 70/214 [13:06<25:34, 10.66s/it]Written 70/214 articles\n",
      " 33% 71/214 [13:20<27:34, 11.57s/it]Written 71/214 articles\n",
      " 34% 72/214 [13:34<29:21, 12.40s/it]Written 72/214 articles\n",
      " 34% 73/214 [13:50<31:11, 13.27s/it]Written 73/214 articles\n",
      " 35% 74/214 [14:04<31:30, 13.50s/it]Written 74/214 articles\n",
      " 35% 75/214 [14:20<32:53, 14.20s/it]Written 75/214 articles\n",
      " 36% 76/214 [14:31<30:41, 13.34s/it]Written 76/214 articles\n",
      " 36% 77/214 [14:46<31:43, 13.89s/it]Written 77/214 articles\n",
      " 36% 78/214 [14:56<28:42, 12.67s/it]Written 78/214 articles\n",
      " 37% 79/214 [15:04<25:11, 11.20s/it]Written 79/214 articles\n",
      " 37% 80/214 [15:09<21:01,  9.42s/it]Written 80/214 articles\n",
      " 38% 81/214 [15:15<18:47,  8.48s/it]Written 81/214 articles\n",
      " 38% 82/214 [15:26<20:17,  9.23s/it]Written 82/214 articles\n",
      " 39% 83/214 [15:32<17:49,  8.16s/it]Written 83/214 articles\n",
      " 39% 84/214 [15:40<17:23,  8.03s/it]Written 84/214 articles\n",
      " 40% 85/214 [15:50<18:35,  8.64s/it]Written 85/214 articles\n",
      " 40% 86/214 [16:05<22:32, 10.56s/it]Written 86/214 articles\n",
      " 41% 87/214 [16:15<22:23, 10.58s/it]Written 87/214 articles\n",
      " 41% 88/214 [16:31<25:19, 12.06s/it]Written 88/214 articles\n",
      " 42% 89/214 [16:40<23:18, 11.19s/it]Written 89/214 articles\n",
      " 42% 90/214 [16:45<19:21,  9.37s/it]Written 90/214 articles\n",
      " 43% 91/214 [16:49<15:56,  7.78s/it]Written 91/214 articles\n",
      " 43% 92/214 [17:03<19:19,  9.50s/it]Written 92/214 articles\n",
      " 43% 93/214 [17:18<22:27, 11.13s/it]Written 93/214 articles\n",
      " 44% 94/214 [17:33<24:57, 12.48s/it]Written 94/214 articles\n",
      " 44% 95/214 [17:47<25:22, 12.80s/it]Written 95/214 articles\n",
      " 45% 96/214 [17:53<21:18, 10.84s/it]Written 96/214 articles\n",
      " 45% 97/214 [17:58<17:37,  9.04s/it]Written 97/214 articles\n",
      " 46% 98/214 [18:14<21:40, 11.21s/it]Written 98/214 articles\n",
      " 46% 99/214 [18:23<20:15, 10.57s/it]Written 99/214 articles\n",
      " 47% 100/214 [18:31<18:22,  9.67s/it]Written 100/214 articles\n",
      " 47% 101/214 [18:43<19:46, 10.50s/it]Written 101/214 articles\n",
      " 48% 102/214 [18:49<17:07,  9.18s/it]Written 102/214 articles\n",
      " 48% 103/214 [19:05<20:42, 11.19s/it]Written 103/214 articles\n",
      " 49% 104/214 [19:15<19:47, 10.79s/it]Written 104/214 articles\n",
      " 49% 105/214 [19:22<17:23,  9.57s/it]Written 105/214 articles\n",
      " 50% 106/214 [19:38<20:41, 11.49s/it]Written 106/214 articles\n",
      " 50% 107/214 [19:54<23:15, 13.04s/it]Written 107/214 articles\n",
      " 50% 108/214 [20:06<22:10, 12.55s/it]Written 108/214 articles\n",
      " 51% 109/214 [20:22<23:59, 13.71s/it]Written 109/214 articles\n",
      " 51% 110/214 [20:33<22:02, 12.72s/it]Written 110/214 articles\n",
      " 52% 111/214 [20:43<20:49, 12.13s/it]Written 111/214 articles\n",
      " 52% 112/214 [20:54<19:40, 11.58s/it]Written 112/214 articles\n",
      " 53% 113/214 [21:06<19:37, 11.66s/it]Written 113/214 articles\n",
      " 53% 114/214 [21:15<18:34, 11.14s/it]Written 114/214 articles\n",
      " 54% 115/214 [21:29<19:41, 11.93s/it]Written 115/214 articles\n",
      " 54% 116/214 [21:40<18:53, 11.57s/it]Written 116/214 articles\n",
      " 55% 117/214 [21:55<20:35, 12.73s/it]Written 117/214 articles\n",
      " 55% 118/214 [22:05<18:50, 11.78s/it]Written 118/214 articles\n",
      " 56% 119/214 [22:20<20:19, 12.84s/it]Written 119/214 articles\n",
      " 56% 120/214 [22:30<18:39, 11.91s/it]Written 120/214 articles\n",
      " 57% 121/214 [22:46<20:31, 13.24s/it]Written 121/214 articles\n",
      " 57% 122/214 [22:52<16:55, 11.03s/it]Written 122/214 articles\n",
      " 57% 123/214 [23:00<15:03,  9.93s/it]Written 123/214 articles\n",
      " 58% 124/214 [23:08<14:08,  9.43s/it]Written 124/214 articles\n",
      " 58% 125/214 [23:21<15:34, 10.49s/it]Written 125/214 articles\n",
      " 59% 126/214 [23:27<13:32,  9.24s/it]Written 126/214 articles\n",
      " 59% 127/214 [23:36<13:13,  9.12s/it]Written 127/214 articles\n",
      " 60% 128/214 [23:42<11:31,  8.04s/it]Written 128/214 articles\n",
      " 60% 129/214 [23:56<14:12, 10.03s/it]Written 129/214 articles\n",
      " 61% 130/214 [24:10<15:37, 11.15s/it]Written 130/214 articles\n",
      " 61% 131/214 [24:14<12:38,  9.13s/it]Written 131/214 articles\n",
      " 62% 132/214 [24:24<12:41,  9.28s/it]Written 132/214 articles\n",
      " 62% 133/214 [24:40<15:13, 11.28s/it]Written 133/214 articles\n",
      " 63% 134/214 [24:50<14:29, 10.87s/it]Written 134/214 articles\n",
      " 63% 135/214 [25:05<16:03, 12.19s/it]Written 135/214 articles\n",
      " 64% 136/214 [25:18<15:57, 12.27s/it]Written 136/214 articles\n",
      " 64% 137/214 [25:32<16:43, 13.04s/it]Written 137/214 articles\n",
      " 64% 138/214 [25:46<16:41, 13.18s/it]Written 138/214 articles\n",
      " 65% 139/214 [26:00<16:58, 13.58s/it]Written 139/214 articles\n",
      " 65% 140/214 [26:10<15:19, 12.42s/it]Written 140/214 articles\n",
      " 66% 141/214 [26:14<12:04,  9.93s/it]Written 141/214 articles\n",
      " 66% 142/214 [26:28<13:15, 11.04s/it]Written 142/214 articles\n",
      " 67% 143/214 [26:32<10:45,  9.09s/it]Written 143/214 articles\n",
      " 67% 144/214 [26:48<12:49, 10.99s/it]Written 144/214 articles\n",
      " 68% 145/214 [26:59<12:31, 10.89s/it]Written 145/214 articles\n",
      " 68% 146/214 [27:04<10:40,  9.42s/it]Written 146/214 articles\n",
      " 69% 147/214 [27:16<11:03,  9.90s/it]Written 147/214 articles\n",
      " 69% 148/214 [27:22<09:49,  8.92s/it]Written 148/214 articles\n",
      " 70% 149/214 [27:33<10:11,  9.41s/it]Written 149/214 articles\n",
      " 70% 150/214 [27:47<11:30, 10.78s/it]Written 150/214 articles\n",
      " 71% 151/214 [28:02<12:46, 12.16s/it]Written 151/214 articles\n",
      " 71% 152/214 [28:12<11:52, 11.50s/it]Written 152/214 articles\n",
      " 71% 153/214 [28:19<10:11, 10.03s/it]Written 153/214 articles\n",
      " 72% 154/214 [28:26<09:15,  9.26s/it]Written 154/214 articles\n",
      " 72% 155/214 [28:37<09:26,  9.61s/it]Written 155/214 articles\n",
      " 73% 156/214 [28:53<11:11, 11.58s/it]Written 156/214 articles\n",
      " 73% 157/214 [29:05<11:12, 11.80s/it]Written 157/214 articles\n",
      " 74% 158/214 [29:13<09:56, 10.66s/it]Written 159/214 articles\n",
      " 75% 160/214 [29:42<11:17, 12.55s/it]Written 160/214 articles\n",
      " 75% 161/214 [29:51<10:15, 11.61s/it]Written 161/214 articles\n",
      " 76% 162/214 [30:03<10:06, 11.66s/it]Written 162/214 articles\n",
      " 76% 163/214 [30:17<10:37, 12.49s/it]Written 163/214 articles\n",
      " 77% 164/214 [30:26<09:35, 11.51s/it]Written 164/214 articles\n",
      " 77% 165/214 [30:43<10:33, 12.92s/it]Written 165/214 articles\n",
      " 78% 166/214 [30:55<10:16, 12.85s/it]Written 166/214 articles\n",
      " 78% 167/214 [31:04<09:05, 11.61s/it]Written 167/214 articles\n",
      " 79% 168/214 [31:17<09:11, 11.98s/it]Written 168/214 articles\n",
      " 79% 169/214 [31:28<08:42, 11.60s/it]Written 169/214 articles\n",
      " 79% 170/214 [31:41<08:53, 12.13s/it]Written 170/214 articles\n",
      " 80% 171/214 [31:45<06:55,  9.67s/it]Written 171/214 articles\n",
      " 80% 172/214 [31:58<07:26, 10.64s/it]Written 172/214 articles\n",
      " 81% 173/214 [32:14<08:24, 12.30s/it]Written 173/214 articles\n",
      " 81% 174/214 [32:28<08:31, 12.80s/it]Written 174/214 articles\n",
      " 82% 175/214 [32:37<07:41, 11.83s/it]Written 175/214 articles\n",
      " 82% 176/214 [32:54<08:26, 13.32s/it]Written 176/214 articles\n",
      " 83% 177/214 [33:11<08:49, 14.32s/it]Written 177/214 articles\n",
      " 83% 178/214 [33:27<08:57, 14.93s/it]Written 178/214 articles\n",
      " 84% 179/214 [33:37<07:52, 13.49s/it]Written 179/214 articles\n",
      " 84% 180/214 [33:42<06:07, 10.80s/it]Written 180/214 articles\n",
      " 85% 181/214 [33:56<06:31, 11.86s/it]Written 181/214 articles\n",
      " 85% 182/214 [34:11<06:47, 12.73s/it]Written 182/214 articles\n",
      " 86% 183/214 [34:19<05:51, 11.34s/it]Written 183/214 articles\n",
      " 86% 184/214 [34:25<04:48,  9.62s/it]Written 184/214 articles\n",
      " 86% 185/214 [34:30<03:57,  8.20s/it]Written 185/214 articles\n",
      " 87% 186/214 [34:41<04:12,  9.03s/it]Written 186/214 articles\n",
      " 87% 187/214 [34:51<04:12,  9.37s/it]Written 187/214 articles\n",
      " 88% 188/214 [35:00<04:00,  9.24s/it]Written 188/214 articles\n",
      " 88% 189/214 [35:16<04:44, 11.37s/it]Written 189/214 articles\n",
      " 89% 190/214 [35:28<04:34, 11.45s/it]Written 190/214 articles\n",
      " 89% 191/214 [35:37<04:05, 10.69s/it]Written 191/214 articles\n",
      " 90% 192/214 [35:53<04:33, 12.44s/it]Written 192/214 articles\n",
      " 90% 193/214 [36:08<04:39, 13.32s/it]Written 193/214 articles\n",
      " 91% 194/214 [36:23<04:36, 13.81s/it]Written 194/214 articles\n",
      " 91% 195/214 [36:37<04:21, 13.79s/it]Written 195/214 articles\n",
      " 92% 196/214 [36:47<03:49, 12.77s/it]Written 196/214 articles\n",
      " 92% 197/214 [37:03<03:49, 13.51s/it]Written 197/214 articles\n",
      " 93% 198/214 [37:11<03:09, 11.86s/it]Written 198/214 articles\n",
      " 93% 199/214 [37:22<02:53, 11.57s/it]Written 199/214 articles\n",
      " 93% 200/214 [37:31<02:32, 10.86s/it]Written 200/214 articles\n",
      " 94% 201/214 [37:44<02:29, 11.48s/it]Written 201/214 articles\n",
      " 94% 202/214 [37:52<02:07, 10.59s/it]Written 202/214 articles\n",
      " 95% 203/214 [38:01<01:51, 10.16s/it]Written 203/214 articles\n",
      " 95% 204/214 [38:11<01:40, 10.04s/it]Written 204/214 articles\n",
      " 96% 205/214 [38:21<01:28,  9.82s/it]Written 205/214 articles\n",
      " 96% 206/214 [38:29<01:16,  9.53s/it]Written 206/214 articles\n",
      " 97% 207/214 [38:39<01:07,  9.58s/it]Written 207/214 articles\n",
      " 97% 208/214 [38:51<01:01, 10.19s/it]Written 208/214 articles\n",
      " 98% 209/214 [39:04<00:56, 11.26s/it]Written 209/214 articles\n",
      " 98% 210/214 [39:17<00:46, 11.56s/it]Written 210/214 articles\n",
      " 99% 211/214 [39:21<00:27,  9.29s/it]Written 211/214 articles\n",
      " 99% 212/214 [39:30<00:18,  9.27s/it]Written 212/214 articles\n",
      "100% 213/214 [39:43<00:10, 10.42s/it]Written 213/214 articles\n",
      "100% 214/214 [39:52<00:00,  9.93s/it]\n"
     ]
    }
   ],
   "source": [
    "!PYTHONPATH=$(pwd) python sample/contextual_generate.py -model_config_fn lm/configs/base.json -model_ckpt models/base/model.ckpt -metadata_fn text_extraction/Bik_text.jsonl -out_fn falsified_text_fromBIK.jsonl"
   ]
  },
  {
   "cell_type": "code",
   "execution_count": null,
   "metadata": {},
   "outputs": [],
   "source": [
    "!PYTHONPATH=$(pwd) python ./discrimination/run_discrimination.py --input_data=/content/drive/MyDrive/GROVER_pretrained/machine_text_disc.jsonl --output_dir=/content/drive/MyDrive/GROVER_pretrained/ --config_file=./lm/configs/large.json --predict_test"
   ]
  }
 ],
 "metadata": {
  "accelerator": "GPU",
  "colab": {
   "collapsed_sections": [],
   "name": "grover_test.ipynb",
   "provenance": []
  },
  "kernelspec": {
   "display_name": "Python 3 (ipykernel)",
   "language": "python",
   "name": "python3"
  },
  "language_info": {
   "codemirror_mode": {
    "name": "ipython",
    "version": 3
   },
   "file_extension": ".py",
   "mimetype": "text/x-python",
   "name": "python",
   "nbconvert_exporter": "python",
   "pygments_lexer": "ipython3",
   "version": "3.9.7"
  }
 },
 "nbformat": 4,
 "nbformat_minor": 1
}
