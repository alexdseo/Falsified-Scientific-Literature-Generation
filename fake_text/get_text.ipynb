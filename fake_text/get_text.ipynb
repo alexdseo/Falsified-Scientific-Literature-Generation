{
 "cells": [
  {
   "cell_type": "code",
   "execution_count": 1,
   "id": "f29c90c9",
   "metadata": {},
   "outputs": [],
   "source": [
    "import json"
   ]
  },
  {
   "cell_type": "code",
   "execution_count": 2,
   "id": "7b852023",
   "metadata": {},
   "outputs": [],
   "source": [
    "# making 500 text files\n",
    "file = open('falsified_text_fromBIK.jsonl')\n",
    "filename = 0\n",
    "\n",
    "for i in file:\n",
    "    res = json.loads(i)\n",
    "    res = res[\"gens_article\"]\n",
    "    res = str(res)\n",
    "    res = res.replace(\"[\",\"\")\n",
    "    res = res.replace(\"]\",\"\")\n",
    "    \n",
    "    with open(\"./fake_text/\"+str(filename)+'.txt', 'w',encoding=\"utf-8\") as f:\n",
    "        f.write(res)\n",
    "        \n",
    "    filename = filename + 1\n",
    "    "
   ]
  }
 ],
 "metadata": {
  "kernelspec": {
   "display_name": "Python 3 (ipykernel)",
   "language": "python",
   "name": "python3"
  },
  "language_info": {
   "codemirror_mode": {
    "name": "ipython",
    "version": 3
   },
   "file_extension": ".py",
   "mimetype": "text/x-python",
   "name": "python",
   "nbconvert_exporter": "python",
   "pygments_lexer": "ipython3",
   "version": "3.9.7"
  }
 },
 "nbformat": 4,
 "nbformat_minor": 5
}
