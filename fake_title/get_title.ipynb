{
 "cells": [
  {
   "cell_type": "code",
   "execution_count": 11,
   "id": "f29c90c9",
   "metadata": {},
   "outputs": [],
   "source": [
    "import pandas as pd\n",
    "import numpy as np\n",
    "from tika import parser\n",
    "import os\n",
    "import glob\n",
    "import json\n",
    "import jsonlines\n",
    "import random\n",
    "import re\n",
    "from pprint import pprint"
   ]
  },
  {
   "cell_type": "code",
   "execution_count": 12,
   "id": "7b852023",
   "metadata": {},
   "outputs": [],
   "source": [
    "# making 500 title files\n",
    "file = open('falsified_title_fromBIK.jsonl')\n",
    "\n",
    "title=[]\n",
    "\n",
    "for i in file:\n",
    "    res = json.loads(i)\n",
    "    res = res[\"gens_title\"]\n",
    "    res = str(res)\n",
    "    res = res.replace(\"[\",\"\")\n",
    "    res = res.replace(\"]\",\"\")\n",
    "    \n",
    "    title.append(res)"
   ]
  },
  {
   "cell_type": "code",
   "execution_count": 13,
   "id": "83cabc74",
   "metadata": {},
   "outputs": [],
   "source": [
    "# making 500 title files\n",
    "file2 = open('falsified_title_fromBIK2.jsonl')\n",
    "\n",
    "for i in file2:\n",
    "    res = json.loads(i)\n",
    "    res = res[\"gens_title\"]\n",
    "    res = str(res)\n",
    "    res = res.replace(\"[\",\"\")\n",
    "    res = res.replace(\"]\",\"\")\n",
    "    \n",
    "    title.append(res)"
   ]
  },
  {
   "cell_type": "code",
   "execution_count": 14,
   "id": "d0989783",
   "metadata": {},
   "outputs": [],
   "source": [
    "# making 500 title files\n",
    "file3 = open('falsified_title_fromBIK3.jsonl')\n",
    "\n",
    "for i in file3:\n",
    "    res = json.loads(i)\n",
    "    res = res[\"gens_title\"]\n",
    "    res = str(res)\n",
    "    res = res.replace(\"[\",\"\")\n",
    "    res = res.replace(\"]\",\"\")\n",
    "    \n",
    "    title.append(res)"
   ]
  },
  {
   "cell_type": "code",
   "execution_count": 23,
   "id": "fba9a343",
   "metadata": {},
   "outputs": [
    {
     "data": {
      "text/plain": [
       "500"
      ]
     },
     "execution_count": 23,
     "metadata": {},
     "output_type": "execute_result"
    }
   ],
   "source": [
    "len(title)"
   ]
  },
  {
   "cell_type": "code",
   "execution_count": 26,
   "id": "c6b2fd2b",
   "metadata": {},
   "outputs": [
    {
     "data": {
      "text/plain": [
       "[\"'Abstract\\\\nThis is'\",\n",
       " \"'FDA recognizes Labs'\",\n",
       " \"'New PSA,'\",\n",
       " \"'If miRNAs'\",\n",
       " \"'Microsoft Pix. It'\",\n",
       " \"'Opinion:'\",\n",
       " \"'Table 2. File'\",\n",
       " \"'Genomics no longer'\",\n",
       " \"'Mitochondrial Dys'\",\n",
       " \"'Pforetration'\",\n",
       " \"'Effects of BE on'\",\n",
       " \"'Origin of Cardiac'\",\n",
       " \"'Heat Shock Protein 27'\",\n",
       " \"'Pancreatic'\",\n",
       " \"'CNSNOTE 5'\",\n",
       " \"'Gene Resceptions'\",\n",
       " \"'Octamer binding protein'\",\n",
       " \"'Related Works | Qu'\",\n",
       " \"'Advice from France'\",\n",
       " \"'DNA Methyltransfer'\",\n",
       " \"'e92626'\",\n",
       " \"'Resources: Mark2'\",\n",
       " \"'Heterosis and'\",\n",
       " \"'A Different Approach to'\",\n",
       " \"'2 types of fungi'\",\n",
       " \"'About Johns Hopkins University'\",\n",
       " \"'Stac3 In'\",\n",
       " \"'Frequently Asked Questions'\",\n",
       " \"'Gene Protocol Sust'\",\n",
       " \"'The Novel Plant Der'\",\n",
       " \"'Institute of Orth'\",\n",
       " \"'Petroleum Ion Radiation'\",\n",
       " \"'Accelerating Potential'\",\n",
       " \"'Pone.010'\",\n",
       " \"'More Research Evolving'\",\n",
       " \"'Astakine 2'\",\n",
       " \"'Behind the Glorious'\",\n",
       " \"'Collagen Proly'\",\n",
       " \"'CERN, BM'\",\n",
       " \"'Bi-Alert S'\",\n",
       " \"'Clinical Reviews -'\",\n",
       " \"'M9068 ('\",\n",
       " \"'Cancer virus ('\",\n",
       " \"'Riform Genomics'\",\n",
       " \"'Promoting Research in'\",\n",
       " \"'Genetically Generated'\",\n",
       " \"'C. Mitogen'\",\n",
       " \"'Recognizing the'\",\n",
       " \"'New York Times:'\",\n",
       " \"'Biological Evolutionary'\"]"
      ]
     },
     "execution_count": 26,
     "metadata": {},
     "output_type": "execute_result"
    }
   ],
   "source": [
    "title[:50]"
   ]
  },
  {
   "cell_type": "code",
   "execution_count": 22,
   "id": "94dfd65d",
   "metadata": {},
   "outputs": [],
   "source": [
    "with open('fake_title.jsonl','w', encoding='utf-8') as f:\n",
    "    for item in title:\n",
    "        f.write(json.dumps(item) + \"\\n\")"
   ]
  }
 ],
 "metadata": {
  "kernelspec": {
   "display_name": "Python 3 (ipykernel)",
   "language": "python",
   "name": "python3"
  },
  "language_info": {
   "codemirror_mode": {
    "name": "ipython",
    "version": 3
   },
   "file_extension": ".py",
   "mimetype": "text/x-python",
   "name": "python",
   "nbconvert_exporter": "python",
   "pygments_lexer": "ipython3",
   "version": "3.9.7"
  }
 },
 "nbformat": 4,
 "nbformat_minor": 5
}
