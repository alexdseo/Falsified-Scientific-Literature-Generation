{
 "cells": [
  {
   "cell_type": "markdown",
   "id": "8491a004",
   "metadata": {},
   "source": [
    "# Import libraries"
   ]
  },
  {
   "cell_type": "code",
   "execution_count": null,
   "id": "3b231af3",
   "metadata": {},
   "outputs": [],
   "source": [
    "import os\n",
    "import shutil\n",
    "import json\n",
    "import math\n",
    "import random\n",
    "import numpy as np\n",
    "import pandas as pd\n",
    "import requests\n",
    "from bs4 import BeautifulSoup\n",
    "import time\n",
    "\n",
    "from selenium import webdriver\n",
    "from selenium.webdriver.chrome.service import Service\n",
    "from webdriver_manager.chrome import ChromeDriverManager\n",
    "from selenium.webdriver.common.by import By\n",
    "\n",
    "# https://github.com/joke2k/faker\n",
    "from faker import Faker\n",
    "fake = Faker()"
   ]
  },
  {
   "cell_type": "markdown",
   "id": "92df9350",
   "metadata": {},
   "source": [
    "# Load Bik data"
   ]
  },
  {
   "cell_type": "code",
   "execution_count": null,
   "id": "972366ad",
   "metadata": {},
   "outputs": [],
   "source": [
    "# Load data into dataframe from file\n",
    "# Bik_v2 is updated with First Author Affiliation completely filled\n",
    "bik_df = pd.read_csv('../Bik_v2.tsv', sep='\\t', encoding='unicode-escape')\n",
    "\n",
    "# Show all columns\n",
    "pd.set_option('display.max_columns', None)"
   ]
  },
  {
   "cell_type": "markdown",
   "id": "28f8472d",
   "metadata": {},
   "source": [
    "# Clean data"
   ]
  },
  {
   "cell_type": "code",
   "execution_count": null,
   "id": "22b92181",
   "metadata": {},
   "outputs": [],
   "source": [
    "# Drop first column (indices), since pandas automatically provides indices - column 0\n",
    "# Drop duplicate university name column - column 27\n",
    "bik_df = bik_df.drop(bik_df.columns[[0,27]], axis=1)"
   ]
  },
  {
   "cell_type": "code",
   "execution_count": null,
   "id": "485fefb3",
   "metadata": {},
   "outputs": [],
   "source": [
    "# Reformat lab size as single integer (instead of list of integers)\n",
    "bik_df[\"Lab Size\"] = [len(i) for i in bik_df[\"Lab Size\"]]"
   ]
  },
  {
   "cell_type": "code",
   "execution_count": null,
   "id": "c872ce72",
   "metadata": {},
   "outputs": [],
   "source": [
    "# Remove special characters from Affiliations\n",
    "# Easier for LaTeX\n",
    "\n",
    "fa_aff = bik_df[\"First Author Affiliation\"].tolist()\n",
    "fa_aff = [i.strip() if isinstance(i,str) else np.nan for i in fa_aff]\n",
    "\n",
    "for i in range(len(fa_aff)):\n",
    "    if fa_aff[i] == \"UniversitÃ\\xa0 degli Studi di Bari Aldo Moro\":\n",
    "        fa_aff[i] = \"University of Bari Aldo Moro\"\n",
    "    elif fa_aff[i] == \"Blood transfusion centre of Slovenia - Zavod Republike Slovenije za transfuzijsko medicino\":\n",
    "        fa_aff[i] = \"Blood Transfusion Centre of Slovenia\"\n",
    "    elif fa_aff[i] == \"Justus-Liebig-UniversitÃ¤t GieÃ\\x9fen\":\n",
    "        fa_aff[i] = \"Justus Liebig University Giessen\"\n",
    "    elif fa_aff[i] == \"University of Wisconsinâ\\x80\\x93Madison\":\n",
    "        fa_aff[i] = \"University of Wisconsin-Madison\"\n",
    "    elif fa_aff[i] == \"University of Iowa, Iowa City, USA\":\n",
    "        fa_aff[i] = \"University of Iowa\"\n",
    "    elif fa_aff[i] == \"Universidad PolitÃ©cnica de Valencia-C.S.I.C\":\n",
    "        fa_aff[i] = \"Technical University of Valencia\"\n",
    "    elif fa_aff[i] == \"Concordia Universityâ\\x80\\x93Ann Arbor\":\n",
    "        fa_aff[i] = \"Concordia University Ann Arbor\"\n",
    "    elif fa_aff[i] == \"University of Maryland, College Park\":\n",
    "        fa_aff[i] = \"University of Maryland\"\n",
    "    elif fa_aff[i] == \"UniversitÃ¤tsklinikum Erlangen\":\n",
    "        fa_aff[i] = \"University Hospital Erlangen\"\n",
    "    elif fa_aff[i] == \"Universidad AndrÃ©s Bello\":\n",
    "        fa_aff[i] = \"Andres Bello National University\"\n",
    "    elif fa_aff[i] == \"Hospital Son Dureta and Instituto Universitario de InvestigaciÃ³n en Ciencias de la Salud\":\n",
    "        fa_aff[i] = \"Hospital Son Dureta and Instituto Universitario de Investigacion en Ciencias de la Salud\"\n",
    "    elif fa_aff[i] == \"Department of OncologyFaculty of MedicineMcGill UniversityLady Davis Institute-Segal Cancer Center from the Jewish General HospitalMontrealQuebecCanada\":\n",
    "        fa_aff[i] = \"McGill University\"\n",
    "    elif fa_aff[i] == \"Cancer Research LaboratoryFudan University Shanghai Cancer CenterShanghai China\":\n",
    "        fa_aff[i] = \"Fudan University\"\n",
    "    elif fa_aff[i] == \"Department of Biochemistry and Molecular BiophysicsBiochemistry and Molecular and Cellular Biology Graduate ProgramUniversity of ArizonaTucson AZ USA\":\n",
    "        fa_aff[i] = \"University of Arizona\"\n",
    "    elif fa_aff[i] == \"Department of Experimental and Clinical MedicineUniversitÃ\\xa0 Politecnica delle MarcheVia Tronto 10/aAncona60020 Italy\":\n",
    "        fa_aff[i] = \"Marche Polytechnic University Faculty of Medicine\"\n",
    "    elif fa_aff[i] == \"UniversitÃ© de Strasbourg-CNRS\" or fa_aff[i] == \"CNRS UniversitÃ© de Strasbourg\":\n",
    "        fa_aff[i] = \"University of Strasbourg\"\n",
    "    elif fa_aff[i] == \"Divisiont of Urology Kobe University Graduate School of Medicine Kobe Hyogo 650-0017 Japan\":\n",
    "        fa_aff[i] = \"Kobe University\"\n",
    "    elif fa_aff[i] == \"School of Human Science and Environment University of Hyogo Himeji Hyogo 670-0092 Japan\":\n",
    "        fa_aff[i] = \"University of Hyogo\"\n",
    "    elif fa_aff[i] == \"Johns Hopkins University School of Medicine and the Sidney Kimmel Comprehensive Cancer Center at Johns Hopkins\":\n",
    "        fa_aff[i] = \"Johns Hopkins University\"\n",
    "    elif fa_aff[i] == \"UniversitÃ© Paris-Saclay\":\n",
    "        fa_aff[i] = \"University of Paris-Saclay\"\n",
    "    elif fa_aff[i] == \"INFN - Istituto Nazionale di Fisica Nuclear\":\n",
    "        fa_aff[i] = \"Istituto Nazionale di Fisica Nuclear\"\n",
    "    elif fa_aff[i] == 'UniversitÃ\\xa0 degli Studi della Campania \"Luigi Vanvitelli':\n",
    "        fa_aff[i] = \"University of Campania Luigi Vanvitelli\"\n",
    "    elif fa_aff[i] == \"UniversitÃ© CÃ´te d'Azur\":\n",
    "        fa_aff[i] = \"Cote d'Azur University\"\n",
    "    elif fa_aff[i] == \"Institut de CancÃ©rologie Gustave Roussy\":\n",
    "        fa_aff[i] = \"Gustave Roussy Institute of Cancerology\"\n",
    "    elif fa_aff[i] == \"Graduate School at Shenzhen, Tsinghua Univeristy\":\n",
    "        fa_aff[i] = \"Tsinghua University\"\n",
    "    elif fa_aff[i] == \"Ecole Normale SupÃ©rieure de Paris\":\n",
    "        fa_aff[i] = \"Ecole Normale Superieure, Paris\"   "
   ]
  },
  {
   "cell_type": "code",
   "execution_count": null,
   "id": "16ecc5e4",
   "metadata": {},
   "outputs": [],
   "source": [
    "bik_df = bik_df.drop(columns=[\"First Author Affiliation\"])\n",
    "bik_df.insert(22,\"First Author Affiliation\",fa_aff)"
   ]
  },
  {
   "cell_type": "code",
   "execution_count": null,
   "id": "8ea277bd",
   "metadata": {},
   "outputs": [],
   "source": [
    "# bik_df"
   ]
  },
  {
   "cell_type": "markdown",
   "id": "1b3609d3",
   "metadata": {},
   "source": [
    "# Download PDFs\n",
    "\n",
    "- **USC VPN required**: `Wiley` [119:121], `Cancer` [135:143], `SciDirect` [144:177], `Science` [178:180], `Nature` [181:187]"
   ]
  },
  {
   "cell_type": "code",
   "execution_count": null,
   "id": "ed600225",
   "metadata": {},
   "outputs": [],
   "source": [
    "# Initialize dictionary of Elsevier IDs to use later for file renaming\n",
    "elsevierID = {}\n",
    "\n",
    "# Download PDFs\n",
    "def download_pdf(df,url,indx):\n",
    "    \n",
    "    # Create PDFS folder to save PDFs to\n",
    "    folder_location = r'PDFS'\n",
    "    if not os.path.exists(folder_location):os.mkdir(folder_location)\n",
    "    \n",
    "    # Get PDF download link\n",
    "    if df[\"Home Site\"][indx] == \"PLOS\":\n",
    "        pdf_link = \"https://journals.plos.org/plosone/article/file?id=\" + df[\"DOI\"][indx] + \"&type=printable\"\n",
    "    elif df[\"Home Site\"][indx] == \"ASM\":\n",
    "        pdf_link = \"https://journals.asm.org/doi/pdf/\" + df[\"DOI\"][indx]\n",
    "    elif df[\"Home Site\"][indx] == \"PubMed\":\n",
    "        # Scrape page\n",
    "        page = requests.get(url)\n",
    "        soup = BeautifulSoup(page.content, \"html.parser\")\n",
    "        # Get DOI\n",
    "        doi = soup.find(\"a\",{\"data-ga-action\":\"DOI\"}).text.replace(\"\\n\",\"\").strip()\n",
    "        # Replace PMID with DOI in dataframe\n",
    "        df.at[indx,'DOI'] = doi\n",
    "        # PDF download link format for ASM Journals\n",
    "        pdf_link = \"https://journals.asm.org/doi/pdf/\" + doi\n",
    "    elif df[\"Home Site\"][indx] == \"Hindawi\":\n",
    "        if df[\"Citation\"][indx][:3] == \"Bio\":\n",
    "            pdf_link = \"https://downloads.hindawi.com/journals/bmri/\" + \"/\".join(df[\"DOI\"][indx].split(\"/\")[-2:]) + \".pdf\"\n",
    "        else: # == \"Evi\"\n",
    "            pdf_link = \"https://downloads.hindawi.com/journals/ecam/\" + \"/\".join(df[\"DOI\"][indx].split(\"/\")[-2:]) + \".pdf\"\n",
    "    elif df[\"Home Site\"][indx] == \"Wiley\":\n",
    "        if df[\"DOI\"][indx][3:7] == \"1002\":\n",
    "            pdf_link = \"https://onlinelibrary.wiley.com/doi/pdf/\" + df[\"DOI\"][indx]\n",
    "        else: # == \"1111\"\n",
    "            pdf_link = \"https://sfamjournals.onlinelibrary.wiley.com/doi/pdf/\" + df[\"DOI\"][indx]\n",
    "    elif df[\"Home Site\"][indx] == \"BioMed\":\n",
    "        if df[\"DOI\"][indx][8:10] == \"gb\":\n",
    "            pdf_link = \"https://genomebiology.biomedcentral.com/track/pdf/\" + df[\"DOI\"][indx] + \".pdf\"\n",
    "        elif df[\"DOI\"][indx][8:10] == \"bc\":\n",
    "            pdf_link = \"https://breast-cancer-research.biomedcentral.com/track/pdf/\" + df[\"DOI\"][indx] + \".pdf\"\n",
    "        else: # == \"14\"\n",
    "            pdf_link = \"https://bmcmicrobiol.biomedcentral.com/track/pdf/\" + df[\"DOI\"][indx] + \".pdf\"\n",
    "    elif df[\"Home Site\"][indx] == \"Cancer\":\n",
    "        if df[\"DOI\"][indx][8:12] == \"j.cc\":\n",
    "            # Scrape page\n",
    "            s = Service(ChromeDriverManager().install())\n",
    "            driver = webdriver.Chrome(service = s)\n",
    "            driver.get(url)\n",
    "            html = driver.page_source\n",
    "            soup = BeautifulSoup(html)\n",
    "            # Choose PDF viewing option\n",
    "            pdf_options = soup.find(\"li\", class_=\"article-tools__item article-tools__pdf\").find_all(\"a\")\n",
    "            for a in pdf_options:\n",
    "                if pdf_options[0][\"href\"] == \"#\":\n",
    "                    url_path = pdf_options[1][\"href\"]\n",
    "                else:\n",
    "                    url_path = pdf_options[0][\"href\"]\n",
    "            url_domain = \"https://www.cell.com\"\n",
    "            # Combine URL domain and scraped path\n",
    "            pdf_link = url_domain + url_path\n",
    "        else: # == S016 or j.lu\n",
    "            s = Service(ChromeDriverManager().install())\n",
    "            driver = webdriver.Chrome(service = s)\n",
    "            driver.get(url)\n",
    "            time.sleep(5) # Wait while URL redirects\n",
    "            driver.switch_to.window(driver.window_handles[-1])\n",
    "            pdf_link = driver.current_url.split(\"?\")[0] + \"/pdfft?isDTMRedir=true&download=true\"\n",
    "            elsevierID[indx] = str(driver.current_url.split(\"?\")[0].split(\"/\")[-1])\n",
    "    elif df[\"Home Site\"][indx] == \"SciDirect\":\n",
    "        # Scrape page\n",
    "        s = Service(ChromeDriverManager().install())\n",
    "        driver = webdriver.Chrome(service = s)\n",
    "        driver.get(url)\n",
    "        time.sleep(5) # Wait while URL redirects\n",
    "        driver.switch_to.window(driver.window_handles[-1])\n",
    "        pdf_link = driver.current_url.split(\"?\")[0] + \"/pdfft?isDTMRedir=true&download=true\"\n",
    "        elsevierID[indx] = str(driver.current_url.split(\"?\")[0].split(\"/\")[-1]) \n",
    "    elif df[\"Home Site\"][indx] == \"Science\":\n",
    "        pdf_link = \"https://www.science.org/doi/pdf/\" + df[\"DOI\"][indx]\n",
    "    elif df[\"Home Site\"][indx] == \"Nature\":\n",
    "        if df[\"DOI\"][indx][8:11] == \"onc\":\n",
    "            pdf_link = \"https://www.nature.com/articles/\" + df[\"DOI\"][indx].split(\"/\")[1].replace(\".\",\"\") + \".pdf\"\n",
    "        else:\n",
    "            pdf_link = \"https://www.nature.com/articles/\" + df[\"DOI\"][indx].split(\"/\")[1] + \".pdf\"\n",
    "    elif df[\"Home Site\"][indx] == \"RUPress\":\n",
    "        pdf_link = \"https://rupress.org/jcb/article-pdf/199/3/481/1357646/\" + df[\"DOI\"][indx].split(\"/\")[1].replace(\".\",\"_\") + \".pdf\"\n",
    "    elif df[\"Home Site\"][indx] == \"Spandidos\":\n",
    "        pdf_link = \"https://www.spandidos-publications.com/\" + df[\"DOI\"][indx] + \"/download\"\n",
    "    elif df[\"Home Site\"][indx] == \"PNAS\":\n",
    "        pdf_link = \"https://www.pnas.org/doi/pdf/\" + df[\"DOI\"][indx]\n",
    "    else:\n",
    "        pdf_link = str(indx) + \": ERROR - Link not recognized.\"\n",
    "    \n",
    "    # Feedback\n",
    "    print(pdf_link)\n",
    "    \n",
    "    # File name: Bik index\n",
    "    filename = folder_location + \"/\" + str(indx) + \".pdf\"\n",
    "    \n",
    "    # Download PDF from link\n",
    "    # https://stackoverflow.com/questions/54616638/download-all-pdf-files-from-a-website-using-python\n",
    "    try:\n",
    "        # Not blocked by Cloudflare\n",
    "        if df[\"Home Site\"][indx] in [\"PLOS\",\"Hindawi\",\"BioMed\",\"Cancer\",\"Nature\",\"Spandidos\"]:\n",
    "            with open(filename, 'wb') as f:\n",
    "                f.write(requests.get(pdf_link).content)\n",
    "        # Bypass Cloudflare\n",
    "        elif df[\"Home Site\"][indx] in [\"ASM\"]:#,\"PubMed\",\"Wiley\",\"Cancer\",\"SciDirect\",\"Science\",\"RUPress\",\"PNAS\"]:\n",
    "            s = Service(ChromeDriverManager().install())\n",
    "            # Bypass Cloudflare: https://blog.m157q.tw/posts/2020/09/11/bypass-cloudflare-detection-while-using-selenium-with-chromedriver\n",
    "            options = webdriver.ChromeOptions()\n",
    "            options.add_experimental_option(\"excludeSwitches\", [\"enable-automation\"])\n",
    "            options.add_experimental_option('useAutomationExtension', False)\n",
    "            options.add_argument(\"--disable-blink-features=AutomationControlled\")\n",
    "            # Download PDF with Selenium: https://stackoverflow.com/questions/43149534/selenium-webdriver-how-to-download-a-pdf-file-with-python\n",
    "            options.add_experimental_option('prefs', {\n",
    "            \"download.default_directory\": \"/Users/auderoy/dsci550/Assignment 2/PDFS\", # SET FILE PATH\n",
    "            \"download.prompt_for_download\": False,\n",
    "            \"download.directory_upgrade\": True,\n",
    "            \"plugins.always_open_pdf_externally\": True\n",
    "            })\n",
    "            driver = webdriver.Chrome(service=s,options=options)\n",
    "            driver.get(pdf_link)\n",
    "            time.sleep(5)\n",
    "        # Bypass Cloudflare, click to confirm download\n",
    "        elif df[\"Home Site\"][indx] == \"Wiley\":\n",
    "            s = Service(ChromeDriverManager().install())\n",
    "            # Bypass Cloudflare\n",
    "            options = webdriver.ChromeOptions()\n",
    "            options.add_experimental_option(\"excludeSwitches\", [\"enable-automation\"])\n",
    "            options.add_experimental_option('useAutomationExtension', False)\n",
    "            options.add_argument(\"--disable-blink-features=AutomationControlled\")\n",
    "            # Download PDF with Selenium\n",
    "            options.add_experimental_option('prefs', {\n",
    "            \"download.default_directory\": \"/Users/auderoy/dsci550/Assignment 2/PDFS\", # SET FILE PATH\n",
    "            \"download.prompt_for_download\": False,\n",
    "            \"download.directory_upgrade\": True,\n",
    "            \"plugins.always_open_pdf_externally\": True\n",
    "            })\n",
    "            driver = webdriver.Chrome(service=s,options=options)\n",
    "            driver.get(pdf_link)\n",
    "            time.sleep(5)\n",
    "            # Click button in iframe to confirm download: https://www.selenium.dev/documentation/webdriver/browser/frames\n",
    "            driver.switch_to.frame(driver.find_element(By.CSS_SELECTOR,'body.pb-ui').find_element(By.TAG_NAME,'iframe'))\n",
    "            driver.find_element(By.XPATH,'''/html/body/div/div/a/button''').click()\n",
    "            time.sleep(5)    \n",
    "    except:\n",
    "        print(\"------------------------------\")\n",
    "        print(f\"ERROR: Index - {indx}, Home Site - {df['Home Site'][indx]}, PDF link - {pdf_link}\")\n",
    "        print(\"------------------------------\")"
   ]
  },
  {
   "cell_type": "code",
   "execution_count": null,
   "id": "ef2e374e",
   "metadata": {
    "scrolled": true
   },
   "outputs": [],
   "source": [
    "# Call download_pdf for each paper\n",
    "for index, row in bik_df.iterrows():\n",
    "    print(\"INDEX: \", index)\n",
    "    print(row[\"Home Site\"], \", \", row[\"DOI\"])\n",
    "    print(row[\"Title\"])\n",
    "    print(row[\"URL\"])\n",
    "    # download_pdf(bik_df,row[\"URL\"],index) # PDFs already downloaded; uncomment to redownload"
   ]
  },
  {
   "cell_type": "code",
   "execution_count": null,
   "id": "b615bd18",
   "metadata": {},
   "outputs": [],
   "source": [
    "# PubMed DOI saved for convenience, derived from download_pdf\n",
    "# Update PubMed PMID with DOI\n",
    "\n",
    "bik_df.at[51,'DOI'] = \"10.1128/iai.64.6.2282-2287.1996\"\n",
    "bik_df.at[52,'DOI'] = \"10.1128/IAI.67.1.80-87.1999\"\n",
    "bik_df.at[80,'DOI'] = \"10.1128/JCM.36.6.1666-1673.1998\""
   ]
  },
  {
   "cell_type": "code",
   "execution_count": null,
   "id": "1a416844",
   "metadata": {},
   "outputs": [],
   "source": [
    "%store bik_df"
   ]
  },
  {
   "cell_type": "markdown",
   "id": "26efa7ec",
   "metadata": {},
   "source": [
    "## Rename PDFs downloaded with Selenium &rarr; \"{Bik index}.pdf\""
   ]
  },
  {
   "cell_type": "code",
   "execution_count": null,
   "id": "cee03a9d",
   "metadata": {},
   "outputs": [],
   "source": [
    "# Dictionary saved for convenience, derived from download_pdf\n",
    "# Matching Bik index to Elselvier ID\n",
    "elsevierID = {135: 'S0169500201002124',\n",
    " 136: 'S0169500203002393',\n",
    " 137: 'S016950020600287X',\n",
    " 138: 'S0169500206003308',\n",
    " 139: 'S0169500208003085',\n",
    " 140: 'S0169500209003687',\n",
    " 141: 'S0169500209005418',\n",
    " 142: 'S0169500211000481',\n",
    " 143: 'S0169500211005150',\n",
    " 144: 'S089684110500123X',\n",
    " 145: 'S0896841104001234',\n",
    " 146: 'S0896841106000357',\n",
    " 147: 'S0896841107000182',\n",
    " 148: 'S089684110800139X',\n",
    " 149: 'S089684111400064X',\n",
    " 150: 'S1043466603004423',\n",
    " 151: 'S1043466605000323',\n",
    " 152: 'S1043466605000128',\n",
    " 153: 'S104346660600216X',\n",
    " 154: 'S1043466607000038',\n",
    " 155: 'S1043466606003450',\n",
    " 156: 'S1043466606000020',\n",
    " 157: 'S1043466607000828',\n",
    " 158: 'S1043466608001853',\n",
    " 159: 'S1043466608001816',\n",
    " 160: 'S1043466608000021',\n",
    " 161: 'S1043466608000409',\n",
    " 162: 'S1043466609001896',\n",
    " 163: 'S1043466609000271',\n",
    " 164: 'S1043466609000325',\n",
    " 165: 'S1043466609000179',\n",
    " 166: 'S1043466609008813',\n",
    " 167: 'S1043466611001839',\n",
    " 168: 'S1043466611006806',\n",
    " 169: 'S1043466611000573',\n",
    " 170: 'S1043466610006897',\n",
    " 171: 'S1043466611001827',\n",
    " 172: 'S1043466612001597',\n",
    " 173: 'S1043466612006667',\n",
    " 174: 'S1043466612002177',\n",
    " 175: 'S1043466613001749',\n",
    " 176: 'S1043466613001531',\n",
    " 177: 'S1043466614004748'}"
   ]
  },
  {
   "cell_type": "code",
   "execution_count": null,
   "id": "ee2c02c3",
   "metadata": {},
   "outputs": [],
   "source": [
    "# Rename ASM, PubMed, Science, RUPress, PNAS papers\n",
    "# SET FILE PATH (x3)\n",
    "for f in os.listdir('PDFS'):\n",
    "    count = 0\n",
    "    for c in bik_df[\"DOI\"]:\n",
    "        if c[12:] == f[4:-4]:\n",
    "            shutil.move(os.path.join('PDFS',f),os.path.join('PDFS',f\"{count}.pdf\"))\n",
    "        else:\n",
    "            count += 1"
   ]
  },
  {
   "cell_type": "code",
   "execution_count": null,
   "id": "b3ea9f55",
   "metadata": {},
   "outputs": [],
   "source": [
    "# Rename Elsevier (Cancer, SciDirect) papers\n",
    "# SET FILE PATH (x3)\n",
    "for f in os.listdir('PDFS'):\n",
    "    for key,value in elsevierID.items():\n",
    "        try:\n",
    "            if value in f.split(\"-\")[2]:\n",
    "                shutil.move(os.path.join('PDFS',f),os.path.join('PDFS',f\"{key}.pdf\"))\n",
    "        except:\n",
    "            continue\n",
    "            \n",
    "            "
   ]
  },
  {
   "cell_type": "code",
   "execution_count": null,
   "id": "f30a6ed5",
   "metadata": {},
   "outputs": [],
   "source": [
    "# Rename Wiley papers\n",
    "# Manual: 111, 114, 116, 119\n",
    "# SET FILE PATH (x3)\n",
    "for f in os.listdir('PDFS'):\n",
    "    count = 0\n",
    "    try:\n",
    "        filename = f.split(\"-\")[3:][0].strip()\n",
    "    except:\n",
    "        filename = f\n",
    "    for c in bik_df[\"Title\"]:\n",
    "        if c[:15] == filename[:15]:\n",
    "            shutil.move(os.path.join('PDFS',f),os.path.join('PDFS',f\"{count}.pdf\"))\n",
    "        else:\n",
    "            count += 1"
   ]
  },
  {
   "cell_type": "markdown",
   "id": "bce56e98",
   "metadata": {},
   "source": [
    "# Generate fake features"
   ]
  },
  {
   "cell_type": "markdown",
   "id": "23dd2115",
   "metadata": {},
   "source": [
    "## Author names"
   ]
  },
  {
   "cell_type": "code",
   "execution_count": null,
   "id": "7cc9f49f",
   "metadata": {},
   "outputs": [],
   "source": [
    "# List of all authors from all Bik papers\n",
    "authors214 = bik_df[\"Authors\"].tolist()\n",
    "\n",
    "# List of number of authors per paper\n",
    "authors_per_paper = []\n",
    "for i in authors214:\n",
    "    authors_per_paper.append(len(i.split(\",\")))\n",
    "# authors_per_paper"
   ]
  },
  {
   "cell_type": "code",
   "execution_count": null,
   "id": "56e0580d",
   "metadata": {},
   "outputs": [],
   "source": [
    "# Generate list of author names (string type)\n",
    "def generate_authors():\n",
    "    # for i in range(0,random.randint(3,9)): # Most papers have 3-9 authors\n",
    "    for i in range(0,random.choice(authors_per_paper)): # Weighted random\n",
    "        name = fake.name()\n",
    "        # First author\n",
    "        if i == 0:\n",
    "            authors = name\n",
    "        # Subsequent authors require leading comma\n",
    "        else:\n",
    "            authors = authors + \", \" + name\n",
    "    return authors"
   ]
  },
  {
   "cell_type": "markdown",
   "id": "da733a88",
   "metadata": {},
   "source": [
    "## Affiliations"
   ]
  },
  {
   "cell_type": "code",
   "execution_count": null,
   "id": "28d388e6",
   "metadata": {},
   "outputs": [],
   "source": [
    "# Sample affiliation from Bik papers\n",
    "# Remove empty floats\n",
    "affs214 = bik_df[\"First Author Affiliation\"].tolist()\n",
    "sample_aff = [i for i in affs214 if isinstance(i,str)]\n",
    "\n",
    "# Generate affiliation\n",
    "def generate_aff():\n",
    "    return random.choice(sample_aff)"
   ]
  },
  {
   "cell_type": "markdown",
   "id": "f1451303",
   "metadata": {},
   "source": [
    "## Other"
   ]
  },
  {
   "cell_type": "code",
   "execution_count": null,
   "id": "2de6855c",
   "metadata": {},
   "outputs": [],
   "source": [
    "# Sample all values from dataframe column to get weighted random sample\n",
    "\n",
    "def weighted_random(df,col_name):\n",
    "    values214 = df[col_name].tolist()\n",
    "    return random.choice(values214)"
   ]
  },
  {
   "cell_type": "code",
   "execution_count": null,
   "id": "6a433a38",
   "metadata": {},
   "outputs": [],
   "source": [
    "# Year\n",
    "\n",
    "def generate_year():\n",
    "    return weighted_random(bik_df,\"Year\")"
   ]
  },
  {
   "cell_type": "code",
   "execution_count": null,
   "id": "742165f3",
   "metadata": {},
   "outputs": [],
   "source": [
    "# Month\n",
    "\n",
    "months214 = bik_df[\"Month\"].tolist()\n",
    "sample_months = [i for i in months214 if i>0] # Remove nan from list\n",
    "\n",
    "def generate_month():\n",
    "    return random.choice(sample_months)\n",
    "\n",
    "months_abc = {1:\"January\",\n",
    "             2:\"February\",\n",
    "             3:\"March\",\n",
    "             4:\"April\",\n",
    "             5:\"May\",\n",
    "             6:\"June\",\n",
    "             7:\"July\",\n",
    "             8:\"August\"}"
   ]
  },
  {
   "cell_type": "code",
   "execution_count": null,
   "id": "ec075805",
   "metadata": {},
   "outputs": [],
   "source": [
    "# 0\n",
    "\n",
    "def generate_0():\n",
    "    return weighted_random(bik_df,\"0\")"
   ]
  },
  {
   "cell_type": "code",
   "execution_count": null,
   "id": "308dd7f3",
   "metadata": {},
   "outputs": [],
   "source": [
    "# 1\n",
    "\n",
    "def generate_1():\n",
    "    return weighted_random(bik_df,\"1\")"
   ]
  },
  {
   "cell_type": "code",
   "execution_count": null,
   "id": "96a24f57",
   "metadata": {},
   "outputs": [],
   "source": [
    "# 2\n",
    "\n",
    "def generate_2():\n",
    "    return weighted_random(bik_df,\"2\")"
   ]
  },
  {
   "cell_type": "code",
   "execution_count": null,
   "id": "5db7afae",
   "metadata": {},
   "outputs": [],
   "source": [
    "# 3\n",
    "\n",
    "def generate_3():\n",
    "    return weighted_random(bik_df,\"3\")"
   ]
  },
  {
   "cell_type": "code",
   "execution_count": null,
   "id": "38a01d70",
   "metadata": {},
   "outputs": [],
   "source": [
    "# Findings\n",
    "\n",
    "def generate_findings():\n",
    "    return weighted_random(bik_df,\"FINDINGS\")"
   ]
  },
  {
   "cell_type": "code",
   "execution_count": null,
   "id": "025a1a2a",
   "metadata": {},
   "outputs": [],
   "source": [
    "# Retraction\n",
    "\n",
    "def generate_retraction():\n",
    "    return weighted_random(bik_df,\"Retraction\")"
   ]
  },
  {
   "cell_type": "code",
   "execution_count": null,
   "id": "8ac6da90",
   "metadata": {},
   "outputs": [],
   "source": [
    "# Correction Date\n",
    "\n",
    "sample_correctionrange = []\n",
    "for i in range(0,214):\n",
    "    m = bik_df[\"Month\"][i]\n",
    "    y = bik_df[\"Year\"][i]\n",
    "    c = bik_df[\"Correction Date\"][i]\n",
    "    if isinstance(c,str):\n",
    "        cm = int(c.split(\"/\")[0])\n",
    "        cy = int(\"20\" + c.split(\"/\")[2])\n",
    "        if m > 0:  \n",
    "            m = int(m)\n",
    "            if m == cm:\n",
    "                if cy - y == 0:\n",
    "                    sample_correctionrange.append(6)\n",
    "                else:\n",
    "                    sample_correctionrange.append(12*(cy-y))\n",
    "            elif m > cm:\n",
    "                sample_correctionrange.append(12*(cy-y-1) + (12-m) + cm)\n",
    "            else: # m < cm\n",
    "                sample_correctionrange.append(12*(cy-y) + (cm-m))\n",
    "        else: # m == nan\n",
    "            if cy - y == 0:\n",
    "                sample_correctionrange.append(6)\n",
    "            else:\n",
    "                sample_correctionrange.append(12*(cy-y))\n",
    "sample_correctionrange\n",
    "\n",
    "def generate_correctiondate(mo,yr):\n",
    "    m = mo + random.choice(sample_correctionrange)\n",
    "    return f\"{m%12}/1/{yr + math.floor(m/12)}\""
   ]
  },
  {
   "cell_type": "code",
   "execution_count": null,
   "id": "d97d3574",
   "metadata": {},
   "outputs": [],
   "source": [
    "# Correction\n",
    "\n",
    "def generate_correction():\n",
    "    return weighted_random(bik_df,\"Correction\")"
   ]
  },
  {
   "cell_type": "code",
   "execution_count": null,
   "id": "ab4ebd18",
   "metadata": {},
   "outputs": [],
   "source": [
    "# No Action\n",
    "\n",
    "def generate_noaction():\n",
    "    return weighted_random(bik_df,\"No Action\")"
   ]
  },
  {
   "cell_type": "code",
   "execution_count": null,
   "id": "878e2904",
   "metadata": {},
   "outputs": [],
   "source": [
    "# First Author Career Duration\n",
    "\n",
    "def generate_duration():\n",
    "    return weighted_random(bik_df,\"First Author Career Duration\")"
   ]
  },
  {
   "cell_type": "code",
   "execution_count": null,
   "id": "91f9025e",
   "metadata": {},
   "outputs": [],
   "source": [
    "# First Author Degree\n",
    "\n",
    "def generate_degree():\n",
    "    return random.choices([\"PhD\",\"MD\",\"MSc\",\"BSc\"],weights=(33/39,4/39,1/39,1/39))"
   ]
  },
  {
   "cell_type": "code",
   "execution_count": null,
   "id": "80bae7f9",
   "metadata": {},
   "outputs": [],
   "source": [
    "# First Author Degree Area\n",
    "\n",
    "degreearea214 = bik_df[\"First Author Degree Area\"].tolist()\n",
    "sample_degreearea = [i for i in degreearea214 if isinstance(i,str)] # Remove nan from list\n",
    "\n",
    "def generate_degreearea():\n",
    "    return random.choice(sample_degreearea)"
   ]
  },
  {
   "cell_type": "code",
   "execution_count": null,
   "id": "6c8a5414",
   "metadata": {},
   "outputs": [],
   "source": [
    "# Home Site\n",
    "\n",
    "def generate_homesite():\n",
    "    return weighted_random(bik_df,\"Home Site\")"
   ]
  },
  {
   "cell_type": "code",
   "execution_count": null,
   "id": "f0d7774c",
   "metadata": {},
   "outputs": [],
   "source": [
    "# DOI\n",
    "\n",
    "def generate_doi(hs,yr):\n",
    "    if hs == \"PLOS\":\n",
    "        x = random.choice([\"00\",\"10\"])\n",
    "        y = random.randint(0,99999)\n",
    "        return f\"10.1371/journal.pone.{x}{y}\"\n",
    "    elif hs == \"ASM\" or hs == \"PubMed\":\n",
    "        x = random.choice([\"mBio\",\"IAI.\",\"JCM.\"])\n",
    "        if x == \"mBio\":\n",
    "            y = f\".00{random.randint(200,500)}-{random.randint(10,15)}\"\n",
    "        elif x == \"IAI.\":\n",
    "            y = f\"0{random.choice([0,1,5,6])}{random.randint(100,900)}-{random.randint(10,15)}\"\n",
    "        else: # x == \"JCM.\"\n",
    "            y = f\"00{random.randint(100,500)}-0{random.randint(0,9)}\"\n",
    "        return f\"10.1128/{x}{y}\"\n",
    "    elif hs == \"Hindawi\":\n",
    "        return f\"10.1155/{yr}/{random.randint(150000,999999)}\"\n",
    "    elif hs == \"Wiley\":\n",
    "        x = random.choice([\"10.1002/ijc.\",\"10.1111/j.\"])\n",
    "        if x == \"10.1002/ijc.\":\n",
    "            y = f\"{random.randint(27000,29000)}\"\n",
    "        else: # x == \"10.1111/j.\"\n",
    "            y = f\"{random.randint(1300,1500)}-{random.choice([0,2])}{random.randint(400,999)}.{yr}.0{random.randint(1000,4000)}.x\"\n",
    "        return f\"{x}{y}\"\n",
    "    elif hs == \"BioMed\":\n",
    "        x = random.choice([\"1471\",\"gb\",\"bcr\"])\n",
    "        if x == \"1471\":\n",
    "            y = f\"-2180-{random.randint(10,15)}-{random.randint(10,200)}\"\n",
    "        elif x == \"gb\":\n",
    "            y = f\"-{yr}-r{random.randint(100,200)}\"\n",
    "        else: # x == \"bcr\"\n",
    "            y = random.randint(3000,4000)\n",
    "        return f\"10.1186/{x}{y}\"\n",
    "    elif hs == \"Cancer\" or hs == \"SciDirect\":\n",
    "        if hs == \"Cancer\":\n",
    "            x = random.choice([\"S0169\",\"j.lungcan\",\"j.ccr\",\"j.ccell\"])\n",
    "        else: # hs = \"SciDirect\"\n",
    "            x = random.choice([\"j.jaut\",\"j.cyto\"])\n",
    "        if x == \"S0169\":\n",
    "            y = f\"-5002(0{random.randint(1,5)})00{random.randint(200,300)}-{random.randint(1,5)}\"\n",
    "        else:\n",
    "            y = f\".{yr}.{random.choice([0,1])}{random.randint(0,9)}.0{random.randint(10,99)}\"\n",
    "        return f\"10.1016/{x}{y}\"\n",
    "    elif hs == \"Science\":\n",
    "        return f\"10.1126/science.{random.randint(1100000,1500000)}\"\n",
    "    elif hs == \"Nature\":\n",
    "        x = random.choice([\"\",\"nature\",\"onc\"])\n",
    "        if x == \"\":\n",
    "            y = random.randint(30000,50000)\n",
    "        elif x == \"nature\":\n",
    "            y = random.randint(10000,15000)\n",
    "        else: # x == \"onc\"\n",
    "            y = f\".{yr}.{random.randint(10,999)}\"\n",
    "        return f\"10.1038/{x}{y}\"\n",
    "    elif hs == \"RUPress\":\n",
    "        return f\"10.1083/jcb.{yr}0{random.randint(1000,5000)}\"\n",
    "    elif hs == \"Spandidos\":\n",
    "        return f\"10.3892/ijo.{yr}.{random.randint(1000,5000)}\"\n",
    "    elif hs == \"PNAS\":\n",
    "        return f\"10.1073/pnas.{random.randint(1000000000,1500000000)}\""
   ]
  },
  {
   "cell_type": "code",
   "execution_count": null,
   "id": "f9303c27",
   "metadata": {},
   "outputs": [],
   "source": [
    "# Pub Rate\n",
    "\n",
    "sample_pubrate = []\n",
    "for i in range(0,214):\n",
    "    pr = bik_df[\"Pub Rate\"][i][1:-1].split(\",\")\n",
    "    for j in pr:\n",
    "        if j not in [\"nan\",\" nan\",\"\"]:\n",
    "            sample_pubrate.append(float(j))\n",
    "\n",
    "def generate_pubrate():\n",
    "    return random.choice(sample_pubrate)"
   ]
  },
  {
   "cell_type": "code",
   "execution_count": null,
   "id": "935138d3",
   "metadata": {},
   "outputs": [],
   "source": [
    "# Other Journals\n",
    "\n",
    "def generate_otherjournals():\n",
    "    return weighted_random(bik_df,\"Other Journals\")"
   ]
  },
  {
   "cell_type": "markdown",
   "id": "0fbc1c75",
   "metadata": {},
   "source": [
    "## Call all functions to generate all features"
   ]
  },
  {
   "cell_type": "code",
   "execution_count": null,
   "id": "be3c2408",
   "metadata": {},
   "outputs": [],
   "source": [
    "authors = []\n",
    "title = []\n",
    "year = []\n",
    "month = []\n",
    "month_abc = []\n",
    "zero = []\n",
    "one = []\n",
    "two = []\n",
    "three = []\n",
    "findings = []\n",
    "correctiondate = []\n",
    "retraction = []\n",
    "correction = []\n",
    "noaction = []\n",
    "homesite = []\n",
    "doi = []\n",
    "url = []\n",
    "citation = []\n",
    "labsize = []\n",
    "pubrate = []\n",
    "otherjournals = []\n",
    "affiliations = []\n",
    "duration = []\n",
    "degree = []\n",
    "degreearea = []\n",
    "\n",
    "for i in range(0,500):\n",
    "    \n",
    "    authors.append(generate_authors())\n",
    "    \n",
    "    generated_text = open(f'../fake_text/fake_text/{i}.txt', 'r').read().replace(\"\\\\n\",\"\\n\\n\").replace(\"$\",\"\\$\")[1:-2]\n",
    "    t = \" \".join(generated_text.split(\" \")[:10])\n",
    "    title.append(t)\n",
    "    \n",
    "    year.append(generate_year())\n",
    "    month.append(generate_month())\n",
    "    month_abc.append(months_abc[int(month[i])])\n",
    "    zero.append(generate_0())\n",
    "    one.append(generate_1())\n",
    "    two.append(generate_2())\n",
    "    three.append(generate_3())\n",
    "    findings.append(generate_findings())\n",
    "    correctiondate.append(generate_correctiondate(month[i],year[i]))\n",
    "    retraction.append(generate_retraction())\n",
    "    correction.append(generate_correction())\n",
    "    noaction.append(generate_noaction())\n",
    "    homesite.append(generate_homesite())\n",
    "    doi.append(generate_doi(homesite[i],year[i]))\n",
    "    url.append(\"http://doi.org/\" + doi[i])\n",
    "    citation.append(f\"{homesite[i]}. {year[i]}. {random.randint(10,99)}({random.randint(10,99)}), {random.randint(100,999)}.\")\n",
    "    labsize.append(len(authors[i].split(\",\")))\n",
    "    pubrate.append(generate_pubrate())\n",
    "    otherjournals.append(generate_otherjournals())\n",
    "    affiliations.append(generate_aff())\n",
    "    duration.append(generate_duration())\n",
    "    degree.append(generate_degree())\n",
    "    degreearea.append(generate_degreearea())\n",
    "\n",
    "# Make accessible to LaTeX.ipynb\n",
    "%store authors\n",
    "%store title\n",
    "%store year\n",
    "%store month\n",
    "%store month_abc\n",
    "%store affiliations"
   ]
  },
  {
   "cell_type": "markdown",
   "id": "8a29213c",
   "metadata": {},
   "source": [
    "# Update dataframe"
   ]
  },
  {
   "cell_type": "code",
   "execution_count": null,
   "id": "22c440b9",
   "metadata": {},
   "outputs": [],
   "source": [
    "# Import from discrimination/get_probs.ipynb\n",
    "\n",
    "%store -r h_probs\n",
    "%store -r m_probs"
   ]
  },
  {
   "cell_type": "code",
   "execution_count": null,
   "id": "daf12006",
   "metadata": {},
   "outputs": [],
   "source": [
    "bik_df[\"(Grover) Falsified Media\"] = h_probs\n",
    "bik_df[\"Falsified Media (Manually labeled)\"] = [0 for i in range(0,214)]\n",
    "# bik_df"
   ]
  },
  {
   "cell_type": "code",
   "execution_count": null,
   "id": "56068e7b",
   "metadata": {},
   "outputs": [],
   "source": [
    "# Add new rows to dataframe\n",
    "\n",
    "for i in range(0,500):\n",
    "    features_1 = [authors[i],title[i],citation[i],doi[i],year[i],month[i],zero[i],one[i],two[i],three[i],findings[i],1,correctiondate[i],retraction[i],correction[i],noaction[i],1,url[i],homesite[i],labsize[i],pubrate[i],otherjournals[i],affiliations[i],duration[i],degree[i],degreearea[i]]\n",
    "    features_2 = bik_df.iloc[bik_df.index[bik_df[\"First Author Affiliation\"] == affiliations[i]][0]][26:-2].tolist()\n",
    "    features_3 = [m_probs[i],1]\n",
    "    bik_df.loc[len(bik_df.index)] = features_1 + features_2 + features_3\n",
    "# bik_df    \n",
    "    \n",
    "    "
   ]
  },
  {
   "cell_type": "markdown",
   "id": "79fbf7f5",
   "metadata": {},
   "source": [
    "# Export TSV"
   ]
  },
  {
   "cell_type": "code",
   "execution_count": null,
   "id": "e7f7f5f4",
   "metadata": {},
   "outputs": [],
   "source": [
    "bik_df.to_csv('../Bik_v2_updated.tsv', sep=\"\\t\")"
   ]
  },
  {
   "cell_type": "code",
   "execution_count": null,
   "id": "01d987eb",
   "metadata": {},
   "outputs": [],
   "source": []
  }
 ],
 "metadata": {
  "kernelspec": {
   "display_name": "Python 3 (ipykernel)",
   "language": "python",
   "name": "python3"
  },
  "language_info": {
   "codemirror_mode": {
    "name": "ipython",
    "version": 3
   },
   "file_extension": ".py",
   "mimetype": "text/x-python",
   "name": "python",
   "nbconvert_exporter": "python",
   "pygments_lexer": "ipython3",
   "version": "3.9.7"
  }
 },
 "nbformat": 4,
 "nbformat_minor": 5
}
