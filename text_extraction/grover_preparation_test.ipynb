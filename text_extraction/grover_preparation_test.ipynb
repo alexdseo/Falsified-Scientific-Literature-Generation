{
 "cells": [
  {
   "cell_type": "code",
   "execution_count": 21,
   "id": "9105c6c9",
   "metadata": {},
   "outputs": [],
   "source": [
    "import pandas as pd\n",
    "import numpy as np\n",
    "from tika import parser\n",
    "import os\n",
    "import glob\n",
    "import json\n",
    "import jsonlines\n",
    "import random\n",
    "import re\n",
    "from pprint import pprint\n",
    "from random import sample"
   ]
  },
  {
   "cell_type": "code",
   "execution_count": 2,
   "id": "f256d3e0",
   "metadata": {},
   "outputs": [
    {
     "data": {
      "text/plain": [
       "Index(['Unnamed: 0', 'Authors', 'Title', 'Citation', 'DOI', 'Year', 'Month',\n",
       "       '0', '1', '2', '3', 'FINDINGS', 'Reported', 'Correction Date',\n",
       "       'Retraction', 'Correction', 'No Action', 'SUM \\nCompleted', 'URL',\n",
       "       'Home Site', 'Lab Size', 'Pub Rate', 'Other Journals',\n",
       "       'First Author Affiliation', 'First Author Career Duration',\n",
       "       'First Author Degree', 'First Author Degree Area', 'university_name',\n",
       "       'world_rank_x', 'country_x', 'national_rank', 'quality_of_education',\n",
       "       'alumni_employment', 'quality_of_faculty', 'publications', 'influence',\n",
       "       'citations_x', 'broad_impact', 'patents', 'score', 'year_x',\n",
       "       'world_rank_y', 'country_y', 'teaching', 'international', 'research',\n",
       "       'citations_y', 'income', 'total_score', 'num_students',\n",
       "       'student_staff_ratio', 'international_students', 'female_male_ratio',\n",
       "       'year_y', 'city_ascii', 'state_id', 'state_name', 'county_fips',\n",
       "       'county_name', 'lat', 'lng', 'population', 'density', 'source',\n",
       "       'military', 'incorporated', 'timezone', 'ranking', 'zips', 'county',\n",
       "       'labor_force', 'employed', 'unemployed', 'rate'],\n",
       "      dtype='object')"
      ]
     },
     "execution_count": 2,
     "metadata": {},
     "output_type": "execute_result"
    }
   ],
   "source": [
    "bik_df = pd.read_csv('Bik_v2.tsv', sep='\\t', encoding='unicode-escape')\n",
    "bik_df.columns"
   ]
  },
  {
   "cell_type": "code",
   "execution_count": 3,
   "id": "2282172b",
   "metadata": {},
   "outputs": [
    {
     "data": {
      "text/plain": [
       "0      Chronic Morphine Treatment Attenuates Cell Gro...\n",
       "1      Katanin Localization Requires Triplet Microtub...\n",
       "2      Curcumin Modulates the Inflammatory Response a...\n",
       "3      miR-221 Promotes Tumorigenesis in Human Triple...\n",
       "4      HIV-1 Tat Protein Increases Microglial Outward...\n",
       "                             ...                        \n",
       "209    Drosophila Mgr, a Prefoldin subunit cooperatin...\n",
       "210    The costimulatory immunogen LPS induces the B-...\n",
       "211    Shox2 is a molecular determinant of depot-spec...\n",
       "212    LRP-6 is a coreceptor for multiple fibrogenic ...\n",
       "213    Interplay of mevalonate and Hippo pathways reg...\n",
       "Name: Title, Length: 214, dtype: object"
      ]
     },
     "execution_count": 3,
     "metadata": {},
     "output_type": "execute_result"
    }
   ],
   "source": [
    "bik_df[\"Title\"]"
   ]
  },
  {
   "cell_type": "code",
   "execution_count": 4,
   "id": "134bd850",
   "metadata": {},
   "outputs": [
    {
     "name": "stdout",
     "output_type": "stream",
     "text": [
      "214\n"
     ]
    }
   ],
   "source": [
    "pdf_files = glob.glob('./PDFs'+\"/*.pdf\")\n",
    "pdf_files = sorted(pdf_files, key=lambda x: int(re.match('\\D*(\\d+)', x).group(1)))\n",
    "\n",
    "print(len(pdf_files))"
   ]
  },
  {
   "cell_type": "code",
   "execution_count": 5,
   "id": "1e54f1b4",
   "metadata": {},
   "outputs": [],
   "source": [
    "with open('./april2019_set_mini.jsonl', 'r') as json_file:\n",
    "    json_list = list(json_file)\n",
    "\n",
    "for json_str in json_list:\n",
    "    result = json.loads(json_str)\n",
    "    #pprint(result)"
   ]
  },
  {
   "cell_type": "code",
   "execution_count": 6,
   "id": "c55e4619",
   "metadata": {},
   "outputs": [
    {
     "name": "stdout",
     "output_type": "stream",
     "text": [
      "Introduction not found in text 48\n",
      "Introduction not found in text 49\n",
      "Introduction not found in text 50\n",
      "Abstract not found in text 51\n",
      "Introduction not found in text 51\n",
      "Abstract not found in text 52\n",
      "Introduction not found in text 52\n",
      "Abstract not found in text 53\n",
      "Abstract not found in text 54\n",
      "Abstract not found in text 55\n",
      "Introduction not found in text 55\n",
      "Abstract not found in text 56\n",
      "Introduction not found in text 56\n",
      "Abstract not found in text 57\n",
      "Introduction not found in text 57\n",
      "Abstract not found in text 58\n",
      "Introduction not found in text 58\n",
      "Abstract not found in text 59\n",
      "Introduction not found in text 59\n",
      "Abstract not found in text 60\n",
      "Introduction not found in text 60\n",
      "Abstract not found in text 61\n",
      "Introduction not found in text 61\n",
      "Abstract not found in text 62\n",
      "Introduction not found in text 62\n",
      "Abstract not found in text 63\n",
      "Introduction not found in text 63\n",
      "Abstract not found in text 64\n",
      "Introduction not found in text 64\n",
      "Abstract not found in text 65\n",
      "Introduction not found in text 65\n",
      "Abstract not found in text 66\n",
      "Introduction not found in text 66\n",
      "Abstract not found in text 67\n",
      "Introduction not found in text 67\n",
      "Abstract not found in text 68\n",
      "Introduction not found in text 68\n",
      "Abstract not found in text 69\n",
      "Introduction not found in text 69\n",
      "Abstract not found in text 70\n",
      "Introduction not found in text 70\n",
      "Introduction not found in text 71\n",
      "Abstract not found in text 72\n",
      "Introduction not found in text 72\n",
      "Abstract not found in text 73\n",
      "Introduction not found in text 73\n",
      "Abstract not found in text 74\n",
      "Introduction not found in text 74\n",
      "Abstract not found in text 75\n",
      "Introduction not found in text 75\n",
      "Abstract not found in text 76\n",
      "Introduction not found in text 76\n",
      "Abstract not found in text 77\n",
      "Introduction not found in text 77\n",
      "Abstract not found in text 78\n",
      "Introduction not found in text 78\n",
      "Introduction not found in text 79\n",
      "Introduction not found in text 80\n",
      "Introduction not found in text 81\n",
      "Abstract not found in text 82\n",
      "Introduction not found in text 82\n",
      "Abstract not found in text 83\n",
      "Introduction not found in text 83\n",
      "Abstract not found in text 84\n",
      "Introduction not found in text 84\n",
      "Introduction not found in text 85\n",
      "Abstract not found in text 86\n",
      "Introduction not found in text 86\n",
      "Introduction not found in text 87\n",
      "Abstract not found in text 88\n",
      "Introduction not found in text 88\n",
      "Abstract not found in text 89\n",
      "Introduction not found in text 89\n",
      "Abstract not found in text 90\n",
      "Introduction not found in text 90\n",
      "Abstract not found in text 91\n",
      "Abstract not found in text 92\n",
      "Abstract not found in text 93\n",
      "Abstract not found in text 94\n",
      "Abstract not found in text 95\n",
      "Abstract not found in text 96\n",
      "Abstract not found in text 97\n",
      "Abstract not found in text 98\n",
      "Abstract not found in text 99\n",
      "Abstract not found in text 100\n",
      "Abstract not found in text 101\n",
      "Abstract not found in text 102\n",
      "Abstract not found in text 103\n",
      "Abstract not found in text 104\n",
      "Abstract not found in text 105\n",
      "Abstract not found in text 106\n",
      "Abstract not found in text 107\n",
      "Introduction not found in text 108\n",
      "Abstract not found in text 109\n",
      "Abstract not found in text 110\n",
      "Introduction not found in text 110\n",
      "Abstract not found in text 111\n",
      "Abstract not found in text 112\n",
      "Introduction not found in text 112\n",
      "Abstract not found in text 113\n",
      "Introduction not found in text 113\n",
      "Introduction not found in text 114\n",
      "Abstract not found in text 115\n",
      "Introduction not found in text 115\n",
      "Abstract not found in text 116\n",
      "Abstract not found in text 117\n",
      "Introduction not found in text 117\n",
      "Introduction not found in text 123\n",
      "Introduction not found in text 124\n",
      "Introduction not found in text 126\n",
      "Introduction not found in text 127\n",
      "Introduction not found in text 128\n",
      "Abstract not found in text 142\n",
      "Abstract not found in text 143\n",
      "Abstract not found in text 178\n",
      "Introduction not found in text 178\n",
      "Abstract not found in text 179\n",
      "Introduction not found in text 179\n",
      "Abstract not found in text 180\n",
      "Introduction not found in text 180\n",
      "Abstract not found in text 181\n",
      "Abstract not found in text 182\n",
      "Introduction not found in text 183\n",
      "Introduction not found in text 184\n",
      "Introduction not found in text 185\n",
      "Introduction not found in text 186\n",
      "Introduction not found in text 187\n",
      "Abstract not found in text 188\n",
      "Abstract not found in text 189\n",
      "Abstract not found in text 190\n",
      "Abstract not found in text 191\n",
      "Abstract not found in text 192\n",
      "Abstract not found in text 193\n",
      "Abstract not found in text 208\n",
      "Introduction not found in text 208\n",
      "Abstract not found in text 209\n",
      "Introduction not found in text 209\n",
      "Abstract not found in text 210\n",
      "Introduction not found in text 210\n",
      "Abstract not found in text 211\n",
      "Introduction not found in text 211\n",
      "Abstract not found in text 212\n",
      "Introduction not found in text 212\n",
      "Abstract not found in text 213\n",
      "Introduction not found in text 213\n"
     ]
    }
   ],
   "source": [
    "stopword1_1='Abstract'\n",
    "stopword1_2='ABSTRACT'\n",
    "stopword1_3='Summary'\n",
    "stopword1_4='SUMMARY'\n",
    "stopword1_5='a b s t r a c t'\n",
    "stopword2_1='Introduction'\n",
    "stopword2_2='1. Introduction'\n",
    "stopword2_3='1.Introduction'\n",
    "\n",
    "count_ab =0\n",
    "count_int=0\n",
    "\n",
    "for i in range(len(pdf_files)):\n",
    "    \n",
    "    parsed_file = parser.from_file(pdf_files[i])\n",
    "    extracted_text = parsed_file[\"content\"].strip()\n",
    "    \n",
    "    if stopword1_1 in extracted_text:\n",
    "        pass\n",
    "    elif stopword1_2 in extracted_text:\n",
    "        pass\n",
    "    elif stopword1_3 in extracted_text:\n",
    "        pass\n",
    "    elif stopword1_4 in extracted_text:\n",
    "        pass\n",
    "    elif stopword1_5 in extracted_text:\n",
    "        pass\n",
    "    else:\n",
    "        print('Abstract not found in text', i)\n",
    "        count_ab += 1\n",
    "    \n",
    "    if stopword2_1 in extracted_text:\n",
    "        pass\n",
    "    elif stopword2_2 in extracted_text:\n",
    "        pass\n",
    "    elif stopword2_3 in extracted_text:\n",
    "        pass\n",
    "    else:\n",
    "        print('Introduction not found in text', i)\n",
    "        count_int += 1\n",
    "        \n",
    "##\n",
    "##53-55: 'introduction' appears in the Rerference section..\n",
    "##183-187: no introduction #no stopword applicable\n",
    "##188-193: no abstract #No stopwords applicable\n",
    "### PNAS: 208~213: no abstract, introduction #No stopwords applicable"
   ]
  },
  {
   "cell_type": "code",
   "execution_count": 7,
   "id": "ffc852fb",
   "metadata": {},
   "outputs": [
    {
     "name": "stdout",
     "output_type": "stream",
     "text": [
      "No stopword for intro: 67\n",
      "No stopword for abstract: 78\n"
     ]
    }
   ],
   "source": [
    "print('No stopword for intro:', count_int)\n",
    "print('No stopword for abstract:', count_ab)"
   ]
  },
  {
   "cell_type": "markdown",
   "id": "ff639378",
   "metadata": {},
   "source": [
    "> Using stopwords we can extract summary and text separately.. but only half of them? is it worth a work?"
   ]
  },
  {
   "cell_type": "code",
   "execution_count": 8,
   "id": "6fa91673",
   "metadata": {},
   "outputs": [],
   "source": [
    "master_file = []\n",
    "\n",
    "for i in range(len(pdf_files)):\n",
    "\n",
    "    parsed_file = parser.from_file(pdf_files[i])\n",
    "    extracted_text = parsed_file[\"content\"].strip()\n",
    "    \n",
    "    newinput ={}\n",
    "    \n",
    "    newinput[\"title\"] = bik_df['Title'][i]\n",
    "    newinput['warc_date'] = '20220328'\n",
    "    newinput[\"text\"]= extracted_text #+ ' [CLS]'\n",
    "    newinput[\"inst_index\"] = str(random.randint(9999,100000)) #radom 5 figure number\n",
    "    newinput[\"domain\"] = bik_df['Citation'][i]\n",
    "    newinput[\"url\"] = bik_df['URL'][i]\n",
    "    newinput[\"summary\"] = \"\" #Blank until we figure out the abstract stuff\n",
    "    newinput['authors'] = [bik_df['Authors'][i]]\n",
    "    newinput['publish_date'] =  '03-28-' + str(bik_df['Year'][i])  #Needs actual published date in form of 'M-D-2022' but try with today + publushed year\n",
    "    newinput[\"split\"] = \"gen\"\n",
    "    newinput[\"status\"] = \"succcess\"\n",
    "    \n",
    "    master_file.append(newinput)\n"
   ]
  },
  {
   "cell_type": "code",
   "execution_count": 13,
   "id": "d50ac184",
   "metadata": {},
   "outputs": [],
   "source": [
    "with open('Bik_text.jsonl','w', encoding='utf-8') as f:\n",
    "    for item in master_file:\n",
    "        f.write(json.dumps(item) + \"\\n\")"
   ]
  }
 ],
 "metadata": {
  "kernelspec": {
   "display_name": "Python 3 (ipykernel)",
   "language": "python",
   "name": "python3"
  },
  "language_info": {
   "codemirror_mode": {
    "name": "ipython",
    "version": 3
   },
   "file_extension": ".py",
   "mimetype": "text/x-python",
   "name": "python",
   "nbconvert_exporter": "python",
   "pygments_lexer": "ipython3",
   "version": "3.9.7"
  }
 },
 "nbformat": 4,
 "nbformat_minor": 5
}
