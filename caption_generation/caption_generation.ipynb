{
 "cells": [
  {
   "cell_type": "markdown",
   "id": "d5068904",
   "metadata": {},
   "source": [
    "# Generate fake captions\n",
    "\n",
    "- Build Docker\n",
    "- Execute `python caption_generation/part6.py` on Terminal\n",
    "- Output file: `out.out`\n",
    "- Import below and parse"
   ]
  },
  {
   "cell_type": "code",
   "execution_count": 1,
   "id": "6349c297",
   "metadata": {},
   "outputs": [],
   "source": [
    "import json"
   ]
  },
  {
   "cell_type": "code",
   "execution_count": 2,
   "id": "006724e8",
   "metadata": {},
   "outputs": [
    {
     "name": "stdout",
     "output_type": "stream",
     "text": [
      "Stored 'captions' (list)\n"
     ]
    }
   ],
   "source": [
    "# Convert string with multiple dictionaries: https://stackoverflow.com/questions/20037630/how-to-convert-a-string-with-multiple-dictionaries-so-json-load-can-parse-it\n",
    "\n",
    "# Load file\n",
    "c = open(\"out.out\", \"r\")\n",
    "caption_str = c.read()\n",
    "\n",
    "# Put each output on a new line\n",
    "caption_str = caption_str.replace(\"}}\",\"}}\\n\")\n",
    "\n",
    "# Make a list (of strings) from each line\n",
    "caption_list = [d.strip() for d in caption_str.splitlines()]\n",
    "caption_list\n",
    "\n",
    "# Parse JSON strings as Python dictionaries\n",
    "caption_dict = [json.loads(i) for i in caption_list]\n",
    "caption_dict\n",
    "\n",
    "# Choose caption with highest confidence\n",
    "captions = []\n",
    "confidence = []\n",
    "for i in caption_dict:\n",
    "    best_caption = max(i[\"captions\"], key=lambda x:x[\"confidence\"])\n",
    "    captions.append(best_caption[\"sentence\"])\n",
    "    confidence.append(best_caption[\"confidence\"])\n",
    "captions\n",
    "%store captions"
   ]
  },
  {
   "cell_type": "code",
   "execution_count": 3,
   "id": "ec079d8b",
   "metadata": {},
   "outputs": [
    {
     "data": {
      "text/plain": [
       "0.003205268562884571"
      ]
     },
     "execution_count": 3,
     "metadata": {},
     "output_type": "execute_result"
    }
   ],
   "source": [
    "max(confidence)"
   ]
  },
  {
   "cell_type": "code",
   "execution_count": 4,
   "id": "ccc88e14",
   "metadata": {},
   "outputs": [],
   "source": [
    "with open('captions.txt', 'w') as c:\n",
    "    for i in captions:\n",
    "        c.write(i)\n",
    "        c.write(\"\\n\")"
   ]
  },
  {
   "cell_type": "code",
   "execution_count": null,
   "id": "0fa8a00c",
   "metadata": {},
   "outputs": [],
   "source": []
  }
 ],
 "metadata": {
  "kernelspec": {
   "display_name": "Python 3 (ipykernel)",
   "language": "python",
   "name": "python3"
  },
  "language_info": {
   "codemirror_mode": {
    "name": "ipython",
    "version": 3
   },
   "file_extension": ".py",
   "mimetype": "text/x-python",
   "name": "python",
   "nbconvert_exporter": "python",
   "pygments_lexer": "ipython3",
   "version": "3.9.7"
  }
 },
 "nbformat": 4,
 "nbformat_minor": 5
}
