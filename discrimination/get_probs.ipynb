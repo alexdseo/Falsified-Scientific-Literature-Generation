{
 "cells": [
  {
   "cell_type": "code",
   "execution_count": 1,
   "id": "40bd1ff6",
   "metadata": {},
   "outputs": [],
   "source": [
    "import numpy as np"
   ]
  },
  {
   "cell_type": "code",
   "execution_count": 2,
   "id": "a56722da",
   "metadata": {},
   "outputs": [],
   "source": [
    "human_probs=np.load('human_test-probs.npy')"
   ]
  },
  {
   "cell_type": "code",
   "execution_count": 3,
   "id": "e581960e",
   "metadata": {},
   "outputs": [],
   "source": [
    "machine_probs_0_213=np.load('machine_test-probs.npy')"
   ]
  },
  {
   "cell_type": "code",
   "execution_count": 4,
   "id": "17c33f75",
   "metadata": {},
   "outputs": [],
   "source": [
    "machine_probs_214_427=np.load('machine2_test-probs.npy')"
   ]
  },
  {
   "cell_type": "code",
   "execution_count": 5,
   "id": "907904d3",
   "metadata": {},
   "outputs": [],
   "source": [
    "machine_probs_428_499=np.load('machine3_test-probs.npy')"
   ]
  },
  {
   "cell_type": "code",
   "execution_count": 6,
   "id": "719025d6",
   "metadata": {},
   "outputs": [],
   "source": [
    "h_probs=[]\n",
    "for i in range(len(human_probs)):\n",
    "    h_probs.append(human_probs[i][0])"
   ]
  },
  {
   "cell_type": "code",
   "execution_count": 7,
   "id": "25aa63cd",
   "metadata": {},
   "outputs": [],
   "source": [
    "m1_probs=[]\n",
    "for i in range(len(machine_probs_0_213)):\n",
    "    m1_probs.append(machine_probs_0_213[i][0])"
   ]
  },
  {
   "cell_type": "code",
   "execution_count": 8,
   "id": "c0cce66a",
   "metadata": {},
   "outputs": [],
   "source": [
    "m2_probs=[]\n",
    "for i in range(len(machine_probs_214_427)):\n",
    "    m2_probs.append(machine_probs_214_427[i][0])"
   ]
  },
  {
   "cell_type": "code",
   "execution_count": 9,
   "id": "b14cf94d",
   "metadata": {},
   "outputs": [],
   "source": [
    "m3_probs=[]\n",
    "for i in range(len(machine_probs_428_499)):\n",
    "    m3_probs.append(machine_probs_428_499[i][0])"
   ]
  },
  {
   "cell_type": "code",
   "execution_count": 10,
   "id": "b9f59454",
   "metadata": {},
   "outputs": [
    {
     "data": {
      "text/plain": [
       "0.68654764"
      ]
     },
     "execution_count": 10,
     "metadata": {},
     "output_type": "execute_result"
    }
   ],
   "source": [
    "np.mean(h_probs)"
   ]
  },
  {
   "cell_type": "code",
   "execution_count": 11,
   "id": "94a6d374",
   "metadata": {},
   "outputs": [
    {
     "data": {
      "text/plain": [
       "0.53454477"
      ]
     },
     "execution_count": 11,
     "metadata": {},
     "output_type": "execute_result"
    }
   ],
   "source": [
    "np.mean(m1_probs)"
   ]
  },
  {
   "cell_type": "code",
   "execution_count": 12,
   "id": "cedea93a",
   "metadata": {},
   "outputs": [
    {
     "data": {
      "text/plain": [
       "0.4311773"
      ]
     },
     "execution_count": 12,
     "metadata": {},
     "output_type": "execute_result"
    }
   ],
   "source": [
    "np.mean(m2_probs)"
   ]
  },
  {
   "cell_type": "code",
   "execution_count": 13,
   "id": "79205cbd",
   "metadata": {},
   "outputs": [
    {
     "data": {
      "text/plain": [
       "0.6515893"
      ]
     },
     "execution_count": 13,
     "metadata": {},
     "output_type": "execute_result"
    }
   ],
   "source": [
    "np.mean(m3_probs)"
   ]
  },
  {
   "cell_type": "code",
   "execution_count": 14,
   "id": "87edbe6a",
   "metadata": {},
   "outputs": [],
   "source": [
    "m_probs = m1_probs + m2_probs + m3_probs"
   ]
  },
  {
   "cell_type": "code",
   "execution_count": 15,
   "id": "d4479d3b",
   "metadata": {},
   "outputs": [],
   "source": [
    "probs_all = h_probs + m_probs"
   ]
  },
  {
   "cell_type": "code",
   "execution_count": 16,
   "id": "97a97e8f",
   "metadata": {},
   "outputs": [
    {
     "data": {
      "text/plain": [
       "0.5071579"
      ]
     },
     "execution_count": 16,
     "metadata": {},
     "output_type": "execute_result"
    }
   ],
   "source": [
    "np.mean(m_probs)"
   ]
  }
 ],
 "metadata": {
  "kernelspec": {
   "display_name": "Python 3 (ipykernel)",
   "language": "python",
   "name": "python3"
  },
  "language_info": {
   "codemirror_mode": {
    "name": "ipython",
    "version": 3
   },
   "file_extension": ".py",
   "mimetype": "text/x-python",
   "name": "python",
   "nbconvert_exporter": "python",
   "pygments_lexer": "ipython3",
   "version": "3.9.7"
  }
 },
 "nbformat": 4,
 "nbformat_minor": 5
}
