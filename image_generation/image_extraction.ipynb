{
 "cells": [
  {
   "cell_type": "markdown",
   "id": "0c46bb5b",
   "metadata": {},
   "source": [
    "# Extract images from PDFs\n",
    "\n",
    "- [The Python Code: Extract PDF images in Python](https://www.thepythoncode.com/article/extract-pdf-images-in-python)\n",
    "- Different organizational methods for image generation tests"
   ]
  },
  {
   "cell_type": "markdown",
   "id": "debbd2d5",
   "metadata": {},
   "source": [
    "# Import libraries"
   ]
  },
  {
   "cell_type": "code",
   "execution_count": null,
   "id": "f29ccc0c",
   "metadata": {},
   "outputs": [],
   "source": [
    "import shutil\n",
    "import pandas as pd\n",
    "\n",
    "# https://www.thepythoncode.com/article/extract-pdf-images-in-python\n",
    "import fitz # PyMuPDF\n",
    "import io\n",
    "from PIL import Image"
   ]
  },
  {
   "cell_type": "markdown",
   "id": "bab3a2fc",
   "metadata": {},
   "source": [
    "# Import bik_df"
   ]
  },
  {
   "cell_type": "code",
   "execution_count": null,
   "id": "f2c02772",
   "metadata": {},
   "outputs": [],
   "source": [
    "%store -r bik_df"
   ]
  },
  {
   "cell_type": "markdown",
   "id": "d143aa9b",
   "metadata": {},
   "source": [
    "# Method 1: Save images to individual folders (by paper)"
   ]
  },
  {
   "cell_type": "code",
   "execution_count": null,
   "id": "f4115da4",
   "metadata": {},
   "outputs": [],
   "source": [
    "def extract_images(df,file,indx):\n",
    "    \n",
    "    print(\"------------------------------\")\n",
    "    print(\"INDEX: \", indx)\n",
    "    \n",
    "    # Open file\n",
    "    pdf_file = fitz.open(file)\n",
    "    \n",
    "    # Create folder for images\n",
    "    folder_location = \"../image_generation/images/extracted_images/\" + df[\"Title\"][indx][:240].replace(\"/\",\"-\") + \"-images\"\n",
    "    if not os.path.exists(folder_location):os.mkdir(folder_location)\n",
    "        \n",
    "    # Iterate over PDF pages\n",
    "    for page_index in range(len(pdf_file)):\n",
    "        # Get page\n",
    "        page = pdf_file[page_index]\n",
    "        image_list = page.get_images()\n",
    "        # Print number of images found on page\n",
    "        if image_list:\n",
    "            print(f\"[+] Found a total of {len(image_list)} images on page {page_index}\")\n",
    "        else:\n",
    "            print(\"[!] No images found on page\", page_index)\n",
    "        for image_index, img in enumerate(page.get_images(), start=1):\n",
    "            try:\n",
    "                # Get image XREF\n",
    "                xref = img[0]\n",
    "                # Extract image bytes\n",
    "                base_image = pdf_file.extract_image(xref)\n",
    "                image_bytes = base_image[\"image\"]\n",
    "                # Get image extension\n",
    "                image_ext = base_image[\"ext\"]\n",
    "                # Load to PIL\n",
    "                image = Image.open(io.BytesIO(image_bytes))\n",
    "                # Save to local disk\n",
    "                image.save(open(f\"{folder_location}/image{page_index+1}_{image_index}.{image_ext}\", \"wb\"))\n",
    "            except:\n",
    "                continue"
   ]
  },
  {
   "cell_type": "code",
   "execution_count": null,
   "id": "a4ca540d",
   "metadata": {},
   "outputs": [],
   "source": [
    "# Call extract_images for each PDF\n",
    "# PDFs named by index\n",
    "for i in range(0,214):\n",
    "    try:\n",
    "        pdf_file = f\"../data_preprocess/PDFS/{i}.pdf\"\n",
    "        extract_images(bik_df,pdf_file,i)\n",
    "    except:\n",
    "        continue"
   ]
  },
  {
   "cell_type": "markdown",
   "id": "b1a5e8cd",
   "metadata": {},
   "source": [
    "# Method 2: Save all images to one folder"
   ]
  },
  {
   "cell_type": "code",
   "execution_count": null,
   "id": "0865f0cf",
   "metadata": {},
   "outputs": [],
   "source": [
    "def extract_images_new(df,file,indx):\n",
    "    \n",
    "    print(\"------------------------------\")\n",
    "    print(\"INDEX: \", indx)\n",
    "    \n",
    "    # Open file\n",
    "    pdf_file = fitz.open(file)\n",
    "    \n",
    "    # Create folder for images\n",
    "    folder_location = \"../image_generation/images/extracted_images_new\"\n",
    "    if not os.path.exists(folder_location):os.mkdir(folder_location)\n",
    "    \n",
    "    # Iterate over PDF pages\n",
    "    for page_index in range(len(pdf_file)):\n",
    "        # Get page\n",
    "        page = pdf_file[page_index]\n",
    "        image_list = page.get_images()\n",
    "        # Print number of images found on page\n",
    "        if image_list:\n",
    "            print(f\"[+] Found a total of {len(image_list)} images on page {page_index}\")\n",
    "        else:\n",
    "            print(\"[!] No images found on page\", page_index)\n",
    "        for image_index, img in enumerate(page.get_images(), start=1):\n",
    "            try:\n",
    "                # Get image XREF\n",
    "                xref = img[0]\n",
    "                # Extract image bytes\n",
    "                base_image = pdf_file.extract_image(xref)\n",
    "                image_bytes = base_image[\"image\"]\n",
    "                # Get image extension\n",
    "                image_ext = base_image[\"ext\"]\n",
    "                # Load to PIL\n",
    "                image = Image.open(io.BytesIO(image_bytes))\n",
    "                # Save to local disk\n",
    "                image.save(open(f\"{folder_location}/image{indx}_{page_index+1}_{image_index}.{image_ext}\", \"wb\"))\n",
    "            except:\n",
    "                continue"
   ]
  },
  {
   "cell_type": "code",
   "execution_count": null,
   "id": "15ede996",
   "metadata": {},
   "outputs": [],
   "source": [
    "# Call extract_images_new for each PDF\n",
    "# PDFs named by index\n",
    "for i in range(0,214):\n",
    "    try:\n",
    "        pdf_file = f\"../data_preprocess/PDFS/{i}.pdf\"\n",
    "        extract_images_new(bik_df,pdf_file,i)\n",
    "    except:\n",
    "        continue"
   ]
  }
 ],
 "metadata": {
  "kernelspec": {
   "display_name": "Python 3 (ipykernel)",
   "language": "python",
   "name": "python3"
  },
  "language_info": {
   "codemirror_mode": {
    "name": "ipython",
    "version": 3
   },
   "file_extension": ".py",
   "mimetype": "text/x-python",
   "name": "python",
   "nbconvert_exporter": "python",
   "pygments_lexer": "ipython3",
   "version": "3.9.7"
  }
 },
 "nbformat": 4,
 "nbformat_minor": 5
}
